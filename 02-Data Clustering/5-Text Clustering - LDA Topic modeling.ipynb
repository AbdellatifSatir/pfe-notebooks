{
 "cells": [
  {
   "cell_type": "code",
   "execution_count": 1,
   "id": "cc1ef14a",
   "metadata": {},
   "outputs": [],
   "source": [
    "import pandas as pd\n",
    "import numpy as np\n",
    "import matplotlib.pyplot as plt\n",
    "%matplotlib inline\n",
    "import seaborn as sn\n",
    "import re\n",
    "import spacy as sp\n",
    "nlp = sp.load('en_core_web_sm')"
   ]
  },
  {
   "cell_type": "markdown",
   "id": "d95a35c6",
   "metadata": {},
   "source": [
    "## Read data"
   ]
  },
  {
   "cell_type": "code",
   "execution_count": 51,
   "id": "dcc38d5e",
   "metadata": {},
   "outputs": [],
   "source": [
    "data = pd.read_csv('full_data_clustered_ssim.csv')\n",
    "data = data.replace(np.nan,'None')"
   ]
  },
  {
   "cell_type": "code",
   "execution_count": 52,
   "id": "de99b58f",
   "metadata": {
    "scrolled": true
   },
   "outputs": [
    {
     "data": {
      "text/html": [
       "<div>\n",
       "<style scoped>\n",
       "    .dataframe tbody tr th:only-of-type {\n",
       "        vertical-align: middle;\n",
       "    }\n",
       "\n",
       "    .dataframe tbody tr th {\n",
       "        vertical-align: top;\n",
       "    }\n",
       "\n",
       "    .dataframe thead th {\n",
       "        text-align: right;\n",
       "    }\n",
       "</style>\n",
       "<table border=\"1\" class=\"dataframe\">\n",
       "  <thead>\n",
       "    <tr style=\"text-align: right;\">\n",
       "      <th></th>\n",
       "      <th>CVE ID</th>\n",
       "      <th>index</th>\n",
       "      <th>CLEAN TEXT</th>\n",
       "      <th>CI SCORE</th>\n",
       "    </tr>\n",
       "  </thead>\n",
       "  <tbody>\n",
       "    <tr>\n",
       "      <th>0</th>\n",
       "      <td>CVE-2019-1020019</td>\n",
       "      <td>1</td>\n",
       "      <td>failure preserve web page structure cross site...</td>\n",
       "      <td>0.666677</td>\n",
       "    </tr>\n",
       "    <tr>\n",
       "      <th>1</th>\n",
       "      <td>CVE-2019-1020018</td>\n",
       "      <td>2</td>\n",
       "      <td>improper authentication actor claim give ident...</td>\n",
       "      <td>0.625171</td>\n",
       "    </tr>\n",
       "    <tr>\n",
       "      <th>2</th>\n",
       "      <td>CVE-2019-1020016</td>\n",
       "      <td>3</td>\n",
       "      <td>url redirection untrusted site open redirect w...</td>\n",
       "      <td>0.636100</td>\n",
       "    </tr>\n",
       "    <tr>\n",
       "      <th>3</th>\n",
       "      <td>CVE-2019-1020015</td>\n",
       "      <td>4</td>\n",
       "      <td>improper input validation product validate inc...</td>\n",
       "      <td>0.719175</td>\n",
       "    </tr>\n",
       "    <tr>\n",
       "      <th>4</th>\n",
       "      <td>CVE-2019-1020014</td>\n",
       "      <td>5</td>\n",
       "      <td>double free product call free twice memory add...</td>\n",
       "      <td>0.707726</td>\n",
       "    </tr>\n",
       "  </tbody>\n",
       "</table>\n",
       "</div>"
      ],
      "text/plain": [
       "             CVE ID  index                                         CLEAN TEXT  \\\n",
       "0  CVE-2019-1020019      1  failure preserve web page structure cross site...   \n",
       "1  CVE-2019-1020018      2  improper authentication actor claim give ident...   \n",
       "2  CVE-2019-1020016      3  url redirection untrusted site open redirect w...   \n",
       "3  CVE-2019-1020015      4  improper input validation product validate inc...   \n",
       "4  CVE-2019-1020014      5  double free product call free twice memory add...   \n",
       "\n",
       "   CI SCORE  \n",
       "0  0.666677  \n",
       "1  0.625171  \n",
       "2  0.636100  \n",
       "3  0.719175  \n",
       "4  0.707726  "
      ]
     },
     "execution_count": 52,
     "metadata": {},
     "output_type": "execute_result"
    }
   ],
   "source": [
    "df1 = data[['CVE ID','index','CLEAN TEXT','CI SCORE']]\n",
    "df1.head()"
   ]
  },
  {
   "cell_type": "code",
   "execution_count": 53,
   "id": "dbc714cf",
   "metadata": {},
   "outputs": [
    {
     "data": {
      "text/plain": [
       "'failure preserve web page structure cross site scripting software sufficiently validate filter escape encode user controllable input place output web page serve user cross site scripting xss vulnerability occur origin policy state browser limit resource accessible script run give web site origin resource associate web site client client resource site origin goal prevent site able modify read content unrelated site world wide web involve interaction site policy important browser enforce invenio previewer allow xss XSS'"
      ]
     },
     "execution_count": 53,
     "metadata": {},
     "output_type": "execute_result"
    }
   ],
   "source": [
    "def text(i):\n",
    "    return data['CLEAN TEXT'][i] +' '+ data['Vulnerability Type(s)'][i]\n",
    "    \n",
    "text(0)"
   ]
  },
  {
   "cell_type": "markdown",
   "id": "cfde06f2",
   "metadata": {},
   "source": [
    "## CountVectorizer"
   ]
  },
  {
   "cell_type": "code",
   "execution_count": 54,
   "id": "59c17ba4",
   "metadata": {},
   "outputs": [],
   "source": [
    "from sklearn.feature_extraction.text import CountVectorizer\n",
    "\n",
    "cv = CountVectorizer(max_df=0.95,min_df=2,stop_words='english')\n",
    "text_cv = cv.fit_transform(df1['CLEAN TEXT']) # Create a Document-Term Matrix (DTM)\n"
   ]
  },
  {
   "cell_type": "code",
   "execution_count": 55,
   "id": "9247cef6",
   "metadata": {},
   "outputs": [
    {
     "data": {
      "text/plain": [
       "15784"
      ]
     },
     "execution_count": 55,
     "metadata": {},
     "output_type": "execute_result"
    }
   ],
   "source": [
    "# text_cv.toarray() dont use this\n",
    "len(cv.get_feature_names_out())"
   ]
  },
  {
   "cell_type": "markdown",
   "id": "93bc4b34",
   "metadata": {},
   "source": [
    "## TFIDFVectorizer"
   ]
  },
  {
   "cell_type": "code",
   "execution_count": 56,
   "id": "99d924ce",
   "metadata": {},
   "outputs": [],
   "source": [
    "from sklearn.feature_extraction.text import TfidfVectorizer\n",
    "\n",
    "tfidf = TfidfVectorizer()\n",
    "text_tfidf = tfidf.fit_transform(df1['CLEAN TEXT']) # (DTM)"
   ]
  },
  {
   "cell_type": "code",
   "execution_count": 57,
   "id": "174b1707",
   "metadata": {},
   "outputs": [
    {
     "data": {
      "text/plain": [
       "32606"
      ]
     },
     "execution_count": 57,
     "metadata": {},
     "output_type": "execute_result"
    }
   ],
   "source": [
    "len(tfidf.get_feature_names_out())"
   ]
  },
  {
   "cell_type": "markdown",
   "id": "13c282bb",
   "metadata": {},
   "source": [
    "## Latent Dirichlet Allocation - LDA"
   ]
  },
  {
   "cell_type": "code",
   "execution_count": 58,
   "id": "5ab9af4b",
   "metadata": {},
   "outputs": [
    {
     "data": {
      "text/html": [
       "<style>#sk-container-id-2 {color: black;background-color: white;}#sk-container-id-2 pre{padding: 0;}#sk-container-id-2 div.sk-toggleable {background-color: white;}#sk-container-id-2 label.sk-toggleable__label {cursor: pointer;display: block;width: 100%;margin-bottom: 0;padding: 0.3em;box-sizing: border-box;text-align: center;}#sk-container-id-2 label.sk-toggleable__label-arrow:before {content: \"▸\";float: left;margin-right: 0.25em;color: #696969;}#sk-container-id-2 label.sk-toggleable__label-arrow:hover:before {color: black;}#sk-container-id-2 div.sk-estimator:hover label.sk-toggleable__label-arrow:before {color: black;}#sk-container-id-2 div.sk-toggleable__content {max-height: 0;max-width: 0;overflow: hidden;text-align: left;background-color: #f0f8ff;}#sk-container-id-2 div.sk-toggleable__content pre {margin: 0.2em;color: black;border-radius: 0.25em;background-color: #f0f8ff;}#sk-container-id-2 input.sk-toggleable__control:checked~div.sk-toggleable__content {max-height: 200px;max-width: 100%;overflow: auto;}#sk-container-id-2 input.sk-toggleable__control:checked~label.sk-toggleable__label-arrow:before {content: \"▾\";}#sk-container-id-2 div.sk-estimator input.sk-toggleable__control:checked~label.sk-toggleable__label {background-color: #d4ebff;}#sk-container-id-2 div.sk-label input.sk-toggleable__control:checked~label.sk-toggleable__label {background-color: #d4ebff;}#sk-container-id-2 input.sk-hidden--visually {border: 0;clip: rect(1px 1px 1px 1px);clip: rect(1px, 1px, 1px, 1px);height: 1px;margin: -1px;overflow: hidden;padding: 0;position: absolute;width: 1px;}#sk-container-id-2 div.sk-estimator {font-family: monospace;background-color: #f0f8ff;border: 1px dotted black;border-radius: 0.25em;box-sizing: border-box;margin-bottom: 0.5em;}#sk-container-id-2 div.sk-estimator:hover {background-color: #d4ebff;}#sk-container-id-2 div.sk-parallel-item::after {content: \"\";width: 100%;border-bottom: 1px solid gray;flex-grow: 1;}#sk-container-id-2 div.sk-label:hover label.sk-toggleable__label {background-color: #d4ebff;}#sk-container-id-2 div.sk-serial::before {content: \"\";position: absolute;border-left: 1px solid gray;box-sizing: border-box;top: 0;bottom: 0;left: 50%;z-index: 0;}#sk-container-id-2 div.sk-serial {display: flex;flex-direction: column;align-items: center;background-color: white;padding-right: 0.2em;padding-left: 0.2em;position: relative;}#sk-container-id-2 div.sk-item {position: relative;z-index: 1;}#sk-container-id-2 div.sk-parallel {display: flex;align-items: stretch;justify-content: center;background-color: white;position: relative;}#sk-container-id-2 div.sk-item::before, #sk-container-id-2 div.sk-parallel-item::before {content: \"\";position: absolute;border-left: 1px solid gray;box-sizing: border-box;top: 0;bottom: 0;left: 50%;z-index: -1;}#sk-container-id-2 div.sk-parallel-item {display: flex;flex-direction: column;z-index: 1;position: relative;background-color: white;}#sk-container-id-2 div.sk-parallel-item:first-child::after {align-self: flex-end;width: 50%;}#sk-container-id-2 div.sk-parallel-item:last-child::after {align-self: flex-start;width: 50%;}#sk-container-id-2 div.sk-parallel-item:only-child::after {width: 0;}#sk-container-id-2 div.sk-dashed-wrapped {border: 1px dashed gray;margin: 0 0.4em 0.5em 0.4em;box-sizing: border-box;padding-bottom: 0.4em;background-color: white;}#sk-container-id-2 div.sk-label label {font-family: monospace;font-weight: bold;display: inline-block;line-height: 1.2em;}#sk-container-id-2 div.sk-label-container {text-align: center;}#sk-container-id-2 div.sk-container {/* jupyter's `normalize.less` sets `[hidden] { display: none; }` but bootstrap.min.css set `[hidden] { display: none !important; }` so we also need the `!important` here to be able to override the default hidden behavior on the sphinx rendered scikit-learn.org. See: https://github.com/scikit-learn/scikit-learn/issues/21755 */display: inline-block !important;position: relative;}#sk-container-id-2 div.sk-text-repr-fallback {display: none;}</style><div id=\"sk-container-id-2\" class=\"sk-top-container\"><div class=\"sk-text-repr-fallback\"><pre>LatentDirichletAllocation(n_components=2)</pre><b>In a Jupyter environment, please rerun this cell to show the HTML representation or trust the notebook. <br />On GitHub, the HTML representation is unable to render, please try loading this page with nbviewer.org.</b></div><div class=\"sk-container\" hidden><div class=\"sk-item\"><div class=\"sk-estimator sk-toggleable\"><input class=\"sk-toggleable__control sk-hidden--visually\" id=\"sk-estimator-id-2\" type=\"checkbox\" checked><label for=\"sk-estimator-id-2\" class=\"sk-toggleable__label sk-toggleable__label-arrow\">LatentDirichletAllocation</label><div class=\"sk-toggleable__content\"><pre>LatentDirichletAllocation(n_components=2)</pre></div></div></div></div></div>"
      ],
      "text/plain": [
       "LatentDirichletAllocation(n_components=2)"
      ]
     },
     "execution_count": 58,
     "metadata": {},
     "output_type": "execute_result"
    }
   ],
   "source": [
    "# Apply LDA\n",
    "from sklearn.decomposition import LatentDirichletAllocation as LDA\n",
    "\n",
    "num_topics = 2\n",
    "lda_model = LDA(n_components=num_topics)\n",
    "lda_model.fit(text_cv)"
   ]
  },
  {
   "cell_type": "code",
   "execution_count": 60,
   "id": "5a583bb8",
   "metadata": {},
   "outputs": [
    {
     "name": "stdout",
     "output_type": "stream",
     "text": [
      "0 : 15784 [ 1.59855    12.40438022  1.77194231 ...  8.46679465  9.49440157\n",
      "  2.48462786]\n",
      "1 : 15784 [1.40145    1.59561978 1.22805769 ... 1.53320535 0.50559843 0.51537214]\n"
     ]
    }
   ],
   "source": [
    "for i,topic in enumerate(lda_model.components_):\n",
    "    print(i,':',len(topic),topic)"
   ]
  },
  {
   "cell_type": "markdown",
   "id": "83612da1",
   "metadata": {},
   "source": [
    "## List Topics"
   ]
  },
  {
   "cell_type": "code",
   "execution_count": 61,
   "id": "29531597",
   "metadata": {},
   "outputs": [],
   "source": [
    "# Get the most significant words for each topic\n",
    "def get_top_words(model, feature_names, n_top_words):\n",
    "    top_words = []\n",
    "    for topic_idx, topic in enumerate(model.components_):\n",
    "        top_words.append([feature_names[i] for i in topic.argsort()[:-n_top_words - 1:-1]])\n",
    "    return top_words\n",
    "\n",
    "n_top_words = 5 # number of top words to display for each topic\n",
    "feature_names = cv.get_feature_names_out()\n",
    "top_words_per_topic = get_top_words(lda_model, feature_names, n_top_words)"
   ]
  },
  {
   "cell_type": "code",
   "execution_count": 62,
   "id": "f4e50610",
   "metadata": {},
   "outputs": [
    {
     "data": {
      "text/plain": [
       "array(['aa', 'aaa', 'aaaa', ..., 'zzzcms', 'zzzphp', 'âš'], dtype=object)"
      ]
     },
     "execution_count": 62,
     "metadata": {},
     "output_type": "execute_result"
    }
   ],
   "source": [
    "feature_names"
   ]
  },
  {
   "cell_type": "code",
   "execution_count": 63,
   "id": "796924dd",
   "metadata": {},
   "outputs": [
    {
     "data": {
      "text/plain": [
       "[['buffer', 'input', 'command', 'attacker', 'code'],\n",
       " ['site', 'web', 'resource', 'user', 'origin']]"
      ]
     },
     "execution_count": 63,
     "metadata": {},
     "output_type": "execute_result"
    }
   ],
   "source": [
    "top_words_per_topic"
   ]
  },
  {
   "cell_type": "code",
   "execution_count": 64,
   "id": "a3308976",
   "metadata": {
    "scrolled": true
   },
   "outputs": [
    {
     "name": "stdout",
     "output_type": "stream",
     "text": [
      "Topic 0: buffer, input, command, attacker, code\n",
      "Topic 1: site, web, resource, user, origin\n"
     ]
    }
   ],
   "source": [
    "# Print the most significant words for each topic\n",
    "for i, words in enumerate(top_words_per_topic):\n",
    "    print(f\"Topic {i}: {', '.join(words)}\")"
   ]
  },
  {
   "cell_type": "code",
   "execution_count": null,
   "id": "4247f169",
   "metadata": {},
   "outputs": [],
   "source": []
  },
  {
   "cell_type": "code",
   "execution_count": 65,
   "id": "ad7654fb",
   "metadata": {},
   "outputs": [
    {
     "name": "stdout",
     "output_type": "stream",
     "text": [
      "stuck\n",
      "ckeditorfuncnum\n",
      "libimaging\n",
      "icap\n",
      "fpga\n",
      "mechanism\n",
      "activepath\n",
      "readily\n",
      "risky\n",
      "vfprintf\n"
     ]
    }
   ],
   "source": [
    "import random\n",
    "\n",
    "len(lda_model.components_[0])\n",
    "\n",
    "for i in range(10):\n",
    "    random_word_id = random.randint(0,15784)\n",
    "    print(cv.get_feature_names_out()[random_word_id])"
   ]
  },
  {
   "cell_type": "code",
   "execution_count": 66,
   "id": "ebba0986",
   "metadata": {},
   "outputs": [
    {
     "data": {
      "text/plain": [
       "2"
      ]
     },
     "execution_count": 66,
     "metadata": {},
     "output_type": "execute_result"
    }
   ],
   "source": [
    "len(lda_model.components_)"
   ]
  },
  {
   "cell_type": "code",
   "execution_count": 67,
   "id": "375a8494",
   "metadata": {},
   "outputs": [
    {
     "data": {
      "text/plain": [
       "15784"
      ]
     },
     "execution_count": 67,
     "metadata": {},
     "output_type": "execute_result"
    }
   ],
   "source": [
    "len(lda_model.components_[0])"
   ]
  },
  {
   "cell_type": "code",
   "execution_count": 68,
   "id": "de43806b",
   "metadata": {},
   "outputs": [
    {
     "data": {
      "text/plain": [
       "array([ 1.59855   , 12.40438022,  1.77194231, ...,  8.46679465,\n",
       "        9.49440157,  2.48462786])"
      ]
     },
     "execution_count": 68,
     "metadata": {},
     "output_type": "execute_result"
    }
   ],
   "source": [
    "single_topic = lda_model.components_[0]\n",
    "single_topic"
   ]
  },
  {
   "cell_type": "code",
   "execution_count": 69,
   "id": "b9566c41",
   "metadata": {},
   "outputs": [
    {
     "data": {
      "text/plain": [
       "array([ 4622, 12879, 12688,  8177,  2981,  2214,   889,  2295,  6435,\n",
       "        1543], dtype=int64)"
      ]
     },
     "execution_count": 69,
     "metadata": {},
     "output_type": "execute_result"
    }
   ],
   "source": [
    "top_word_indices = single_topic.argsort()[-10:]\n",
    "top_word_indices"
   ]
  },
  {
   "cell_type": "code",
   "execution_count": 70,
   "id": "1d40784a",
   "metadata": {},
   "outputs": [
    {
     "name": "stdout",
     "output_type": "stream",
     "text": [
      "file\n",
      "sql\n",
      "software\n",
      "memory\n",
      "datum\n",
      "code\n",
      "attacker\n",
      "command\n",
      "input\n",
      "buffer\n"
     ]
    }
   ],
   "source": [
    "for index in top_word_indices:\n",
    "    print(cv.get_feature_names_out()[index])"
   ]
  },
  {
   "cell_type": "code",
   "execution_count": 71,
   "id": "67522e99",
   "metadata": {},
   "outputs": [
    {
     "name": "stdout",
     "output_type": "stream",
     "text": [
      "client\n",
      "page\n",
      "vulnerability\n",
      "scripting\n",
      "cross\n",
      "origin\n",
      "user\n",
      "resource\n",
      "web\n",
      "site\n"
     ]
    }
   ],
   "source": [
    "def topics(topic_num):\n",
    "    single_topic = lda_model.components_[topic_num]\n",
    "    top_word_indices = single_topic.argsort()[-10:]\n",
    "    for index in top_word_indices:\n",
    "        print(cv.get_feature_names_out()[index])\n",
    "        \n",
    "topics(1)"
   ]
  },
  {
   "cell_type": "code",
   "execution_count": 72,
   "id": "284ad9fc",
   "metadata": {},
   "outputs": [
    {
     "name": "stdout",
     "output_type": "stream",
     "text": [
      "file\n",
      "sql\n",
      "software\n",
      "memory\n",
      "datum\n",
      "code\n",
      "attacker\n",
      "command\n",
      "input\n",
      "buffer\n"
     ]
    }
   ],
   "source": [
    "topics(0)"
   ]
  },
  {
   "cell_type": "code",
   "execution_count": 73,
   "id": "3215cd2f",
   "metadata": {},
   "outputs": [
    {
     "name": "stdout",
     "output_type": "stream",
     "text": [
      "The top 15 words for topic #0\n",
      "['bound', 'control', 'vulnerability', 'execution', 'result', 'file', 'sql', 'software', 'memory', 'datum', 'code', 'attacker', 'command', 'input', 'buffer']\n",
      "\n",
      "\n",
      "The top 15 words for topic #1\n",
      "['xss', 'information', 'policy', 'software', 'browser', 'client', 'page', 'vulnerability', 'scripting', 'cross', 'origin', 'user', 'resource', 'web', 'site']\n",
      "\n",
      "\n"
     ]
    }
   ],
   "source": [
    "\n",
    "for index, topic in enumerate(lda_model.components_):\n",
    "    print(f'The top 15 words for topic #{index}')\n",
    "    print([cv.get_feature_names_out()[i] for i in topic.argsort()[-15:]])\n",
    "    print('\\n')"
   ]
  },
  {
   "cell_type": "code",
   "execution_count": 44,
   "id": "8151b32c",
   "metadata": {},
   "outputs": [],
   "source": [
    "# topic #0 : CI\n",
    "# topic #1 : Non CI"
   ]
  },
  {
   "cell_type": "markdown",
   "id": "ac9f3caa",
   "metadata": {},
   "source": [
    "## Transform"
   ]
  },
  {
   "cell_type": "code",
   "execution_count": 74,
   "id": "33c8c1c0",
   "metadata": {},
   "outputs": [
    {
     "data": {
      "text/plain": [
       "array([[0.00710179, 0.99289821],\n",
       "       [0.03295312, 0.96704688],\n",
       "       [0.73691442, 0.26308558],\n",
       "       ...,\n",
       "       [0.74917097, 0.25082903],\n",
       "       [0.00583261, 0.99416739],\n",
       "       [0.10762087, 0.89237913]])"
      ]
     },
     "execution_count": 74,
     "metadata": {},
     "output_type": "execute_result"
    }
   ],
   "source": [
    "topic_results = lda_model.transform(text_cv)\n",
    "topic_results"
   ]
  },
  {
   "cell_type": "code",
   "execution_count": 75,
   "id": "1091b846",
   "metadata": {},
   "outputs": [
    {
     "name": "stderr",
     "output_type": "stream",
     "text": [
      "C:\\Users\\pc\\AppData\\Local\\Temp\\ipykernel_13464\\624395582.py:1: SettingWithCopyWarning: \n",
      "A value is trying to be set on a copy of a slice from a DataFrame.\n",
      "Try using .loc[row_indexer,col_indexer] = value instead\n",
      "\n",
      "See the caveats in the documentation: https://pandas.pydata.org/pandas-docs/stable/user_guide/indexing.html#returning-a-view-versus-a-copy\n",
      "  df1['Topic'] = topic_results.argmax(axis=1)\n"
     ]
    },
    {
     "data": {
      "text/html": [
       "<div>\n",
       "<style scoped>\n",
       "    .dataframe tbody tr th:only-of-type {\n",
       "        vertical-align: middle;\n",
       "    }\n",
       "\n",
       "    .dataframe tbody tr th {\n",
       "        vertical-align: top;\n",
       "    }\n",
       "\n",
       "    .dataframe thead th {\n",
       "        text-align: right;\n",
       "    }\n",
       "</style>\n",
       "<table border=\"1\" class=\"dataframe\">\n",
       "  <thead>\n",
       "    <tr style=\"text-align: right;\">\n",
       "      <th></th>\n",
       "      <th>CVE ID</th>\n",
       "      <th>index</th>\n",
       "      <th>CLEAN TEXT</th>\n",
       "      <th>CI SCORE</th>\n",
       "      <th>Topic</th>\n",
       "    </tr>\n",
       "  </thead>\n",
       "  <tbody>\n",
       "    <tr>\n",
       "      <th>0</th>\n",
       "      <td>CVE-2019-1020019</td>\n",
       "      <td>1</td>\n",
       "      <td>failure preserve web page structure cross site...</td>\n",
       "      <td>0.666677</td>\n",
       "      <td>1</td>\n",
       "    </tr>\n",
       "    <tr>\n",
       "      <th>1</th>\n",
       "      <td>CVE-2019-1020018</td>\n",
       "      <td>2</td>\n",
       "      <td>improper authentication actor claim give ident...</td>\n",
       "      <td>0.625171</td>\n",
       "      <td>1</td>\n",
       "    </tr>\n",
       "    <tr>\n",
       "      <th>2</th>\n",
       "      <td>CVE-2019-1020016</td>\n",
       "      <td>3</td>\n",
       "      <td>url redirection untrusted site open redirect w...</td>\n",
       "      <td>0.636100</td>\n",
       "      <td>0</td>\n",
       "    </tr>\n",
       "    <tr>\n",
       "      <th>3</th>\n",
       "      <td>CVE-2019-1020015</td>\n",
       "      <td>4</td>\n",
       "      <td>improper input validation product validate inc...</td>\n",
       "      <td>0.719175</td>\n",
       "      <td>0</td>\n",
       "    </tr>\n",
       "    <tr>\n",
       "      <th>4</th>\n",
       "      <td>CVE-2019-1020014</td>\n",
       "      <td>5</td>\n",
       "      <td>double free product call free twice memory add...</td>\n",
       "      <td>0.707726</td>\n",
       "      <td>0</td>\n",
       "    </tr>\n",
       "    <tr>\n",
       "      <th>...</th>\n",
       "      <td>...</td>\n",
       "      <td>...</td>\n",
       "      <td>...</td>\n",
       "      <td>...</td>\n",
       "      <td>...</td>\n",
       "    </tr>\n",
       "    <tr>\n",
       "      <th>61693</th>\n",
       "      <td>CVE-2008-10001</td>\n",
       "      <td>61694</td>\n",
       "      <td>failure preserve web page structure cross site...</td>\n",
       "      <td>0.706891</td>\n",
       "      <td>1</td>\n",
       "    </tr>\n",
       "    <tr>\n",
       "      <th>61694</th>\n",
       "      <td>CVE-2007-20001</td>\n",
       "      <td>61695</td>\n",
       "      <td>uncontrolle resource consumption resource exha...</td>\n",
       "      <td>0.789261</td>\n",
       "      <td>1</td>\n",
       "    </tr>\n",
       "    <tr>\n",
       "      <th>61695</th>\n",
       "      <td>CVE-2005-10001</td>\n",
       "      <td>61696</td>\n",
       "      <td>url redirection untrusted site open redirect w...</td>\n",
       "      <td>0.696738</td>\n",
       "      <td>0</td>\n",
       "    </tr>\n",
       "    <tr>\n",
       "      <th>61696</th>\n",
       "      <td>CVE-2003-5003</td>\n",
       "      <td>61697</td>\n",
       "      <td>failure preserve web page structure cross site...</td>\n",
       "      <td>0.711290</td>\n",
       "      <td>1</td>\n",
       "    </tr>\n",
       "    <tr>\n",
       "      <th>61697</th>\n",
       "      <td>CVE-2003-5002</td>\n",
       "      <td>61698</td>\n",
       "      <td>cleartext transmission sensitive information s...</td>\n",
       "      <td>0.804882</td>\n",
       "      <td>1</td>\n",
       "    </tr>\n",
       "  </tbody>\n",
       "</table>\n",
       "<p>61698 rows × 5 columns</p>\n",
       "</div>"
      ],
      "text/plain": [
       "                 CVE ID  index  \\\n",
       "0      CVE-2019-1020019      1   \n",
       "1      CVE-2019-1020018      2   \n",
       "2      CVE-2019-1020016      3   \n",
       "3      CVE-2019-1020015      4   \n",
       "4      CVE-2019-1020014      5   \n",
       "...                 ...    ...   \n",
       "61693    CVE-2008-10001  61694   \n",
       "61694    CVE-2007-20001  61695   \n",
       "61695    CVE-2005-10001  61696   \n",
       "61696     CVE-2003-5003  61697   \n",
       "61697     CVE-2003-5002  61698   \n",
       "\n",
       "                                              CLEAN TEXT  CI SCORE  Topic  \n",
       "0      failure preserve web page structure cross site...  0.666677      1  \n",
       "1      improper authentication actor claim give ident...  0.625171      1  \n",
       "2      url redirection untrusted site open redirect w...  0.636100      0  \n",
       "3      improper input validation product validate inc...  0.719175      0  \n",
       "4      double free product call free twice memory add...  0.707726      0  \n",
       "...                                                  ...       ...    ...  \n",
       "61693  failure preserve web page structure cross site...  0.706891      1  \n",
       "61694  uncontrolle resource consumption resource exha...  0.789261      1  \n",
       "61695  url redirection untrusted site open redirect w...  0.696738      0  \n",
       "61696  failure preserve web page structure cross site...  0.711290      1  \n",
       "61697  cleartext transmission sensitive information s...  0.804882      1  \n",
       "\n",
       "[61698 rows x 5 columns]"
      ]
     },
     "execution_count": 75,
     "metadata": {},
     "output_type": "execute_result"
    }
   ],
   "source": [
    "df1['Topic'] = topic_results.argmax(axis=1)\n",
    "df1"
   ]
  },
  {
   "cell_type": "code",
   "execution_count": 84,
   "id": "9b33d8c1",
   "metadata": {},
   "outputs": [
    {
     "data": {
      "text/plain": [
       "(61698, 15784)"
      ]
     },
     "execution_count": 84,
     "metadata": {},
     "output_type": "execute_result"
    }
   ],
   "source": [
    "text_cv.shape"
   ]
  },
  {
   "cell_type": "code",
   "execution_count": 86,
   "id": "27ba0d20",
   "metadata": {},
   "outputs": [
    {
     "data": {
      "text/plain": [
       "Topic\n",
       "0    34670\n",
       "1    27028\n",
       "Name: count, dtype: int64"
      ]
     },
     "execution_count": 86,
     "metadata": {},
     "output_type": "execute_result"
    }
   ],
   "source": [
    "df1['Topic'].value_counts()"
   ]
  },
  {
   "cell_type": "code",
   "execution_count": 89,
   "id": "54bf6730",
   "metadata": {},
   "outputs": [
    {
     "data": {
      "text/plain": [
       "2960876"
      ]
     },
     "execution_count": 89,
     "metadata": {},
     "output_type": "execute_result"
    }
   ],
   "source": [
    "len(text_cv.data)"
   ]
  },
  {
   "cell_type": "code",
   "execution_count": 95,
   "id": "948752eb",
   "metadata": {},
   "outputs": [
    {
     "data": {
      "text/html": [
       "<div>\n",
       "<style scoped>\n",
       "    .dataframe tbody tr th:only-of-type {\n",
       "        vertical-align: middle;\n",
       "    }\n",
       "\n",
       "    .dataframe tbody tr th {\n",
       "        vertical-align: top;\n",
       "    }\n",
       "\n",
       "    .dataframe thead th {\n",
       "        text-align: right;\n",
       "    }\n",
       "</style>\n",
       "<table border=\"1\" class=\"dataframe\">\n",
       "  <thead>\n",
       "    <tr style=\"text-align: right;\">\n",
       "      <th></th>\n",
       "      <th>CVE ID</th>\n",
       "      <th>index</th>\n",
       "      <th>CLEAN TEXT</th>\n",
       "      <th>CI SCORE</th>\n",
       "      <th>Topic</th>\n",
       "    </tr>\n",
       "  </thead>\n",
       "  <tbody>\n",
       "    <tr>\n",
       "      <th>0</th>\n",
       "      <td>CVE-2019-1020019</td>\n",
       "      <td>1</td>\n",
       "      <td>failure preserve web page structure cross site...</td>\n",
       "      <td>0.666677</td>\n",
       "      <td>1</td>\n",
       "    </tr>\n",
       "    <tr>\n",
       "      <th>1</th>\n",
       "      <td>CVE-2019-1020018</td>\n",
       "      <td>2</td>\n",
       "      <td>improper authentication actor claim give ident...</td>\n",
       "      <td>0.625171</td>\n",
       "      <td>1</td>\n",
       "    </tr>\n",
       "    <tr>\n",
       "      <th>2</th>\n",
       "      <td>CVE-2019-1020016</td>\n",
       "      <td>3</td>\n",
       "      <td>url redirection untrusted site open redirect w...</td>\n",
       "      <td>0.636100</td>\n",
       "      <td>0</td>\n",
       "    </tr>\n",
       "    <tr>\n",
       "      <th>3</th>\n",
       "      <td>CVE-2019-1020015</td>\n",
       "      <td>4</td>\n",
       "      <td>improper input validation product validate inc...</td>\n",
       "      <td>0.719175</td>\n",
       "      <td>0</td>\n",
       "    </tr>\n",
       "    <tr>\n",
       "      <th>4</th>\n",
       "      <td>CVE-2019-1020014</td>\n",
       "      <td>5</td>\n",
       "      <td>double free product call free twice memory add...</td>\n",
       "      <td>0.707726</td>\n",
       "      <td>0</td>\n",
       "    </tr>\n",
       "    <tr>\n",
       "      <th>...</th>\n",
       "      <td>...</td>\n",
       "      <td>...</td>\n",
       "      <td>...</td>\n",
       "      <td>...</td>\n",
       "      <td>...</td>\n",
       "    </tr>\n",
       "    <tr>\n",
       "      <th>61693</th>\n",
       "      <td>CVE-2008-10001</td>\n",
       "      <td>61694</td>\n",
       "      <td>failure preserve web page structure cross site...</td>\n",
       "      <td>0.706891</td>\n",
       "      <td>1</td>\n",
       "    </tr>\n",
       "    <tr>\n",
       "      <th>61694</th>\n",
       "      <td>CVE-2007-20001</td>\n",
       "      <td>61695</td>\n",
       "      <td>uncontrolle resource consumption resource exha...</td>\n",
       "      <td>0.789261</td>\n",
       "      <td>1</td>\n",
       "    </tr>\n",
       "    <tr>\n",
       "      <th>61695</th>\n",
       "      <td>CVE-2005-10001</td>\n",
       "      <td>61696</td>\n",
       "      <td>url redirection untrusted site open redirect w...</td>\n",
       "      <td>0.696738</td>\n",
       "      <td>0</td>\n",
       "    </tr>\n",
       "    <tr>\n",
       "      <th>61696</th>\n",
       "      <td>CVE-2003-5003</td>\n",
       "      <td>61697</td>\n",
       "      <td>failure preserve web page structure cross site...</td>\n",
       "      <td>0.711290</td>\n",
       "      <td>1</td>\n",
       "    </tr>\n",
       "    <tr>\n",
       "      <th>61697</th>\n",
       "      <td>CVE-2003-5002</td>\n",
       "      <td>61698</td>\n",
       "      <td>cleartext transmission sensitive information s...</td>\n",
       "      <td>0.804882</td>\n",
       "      <td>1</td>\n",
       "    </tr>\n",
       "  </tbody>\n",
       "</table>\n",
       "<p>61698 rows × 5 columns</p>\n",
       "</div>"
      ],
      "text/plain": [
       "                 CVE ID  index  \\\n",
       "0      CVE-2019-1020019      1   \n",
       "1      CVE-2019-1020018      2   \n",
       "2      CVE-2019-1020016      3   \n",
       "3      CVE-2019-1020015      4   \n",
       "4      CVE-2019-1020014      5   \n",
       "...                 ...    ...   \n",
       "61693    CVE-2008-10001  61694   \n",
       "61694    CVE-2007-20001  61695   \n",
       "61695    CVE-2005-10001  61696   \n",
       "61696     CVE-2003-5003  61697   \n",
       "61697     CVE-2003-5002  61698   \n",
       "\n",
       "                                              CLEAN TEXT  CI SCORE  Topic  \n",
       "0      failure preserve web page structure cross site...  0.666677      1  \n",
       "1      improper authentication actor claim give ident...  0.625171      1  \n",
       "2      url redirection untrusted site open redirect w...  0.636100      0  \n",
       "3      improper input validation product validate inc...  0.719175      0  \n",
       "4      double free product call free twice memory add...  0.707726      0  \n",
       "...                                                  ...       ...    ...  \n",
       "61693  failure preserve web page structure cross site...  0.706891      1  \n",
       "61694  uncontrolle resource consumption resource exha...  0.789261      1  \n",
       "61695  url redirection untrusted site open redirect w...  0.696738      0  \n",
       "61696  failure preserve web page structure cross site...  0.711290      1  \n",
       "61697  cleartext transmission sensitive information s...  0.804882      1  \n",
       "\n",
       "[61698 rows x 5 columns]"
      ]
     },
     "execution_count": 95,
     "metadata": {},
     "output_type": "execute_result"
    }
   ],
   "source": [
    "df1"
   ]
  },
  {
   "cell_type": "code",
   "execution_count": 97,
   "id": "52b279e5",
   "metadata": {},
   "outputs": [
    {
     "name": "stdout",
     "output_type": "stream",
     "text": [
      "[[0.43428121 0.56571879]\n",
      " [0.5550228  0.4449772 ]\n",
      " [0.5        0.5       ]\n",
      " [0.62386576 0.37613424]\n",
      " [0.2229213  0.7770787 ]]\n"
     ]
    }
   ],
   "source": [
    "import pandas as pd\n",
    "from sklearn.decomposition import LatentDirichletAllocation\n",
    "from sklearn.preprocessing import MinMaxScaler\n",
    "\n",
    "# Sample non-text data (numeric)\n",
    "data = {\n",
    "    'Feature1': [1.5, 2.3, 0.7, 3.1, 1.0],\n",
    "    'Feature2': [0.8, 1.2, 0.5, 1.9, 2.5],\n",
    "    'Feature3': [3.0, 2.8, 1.2, 2.5, 3.2]\n",
    "}\n",
    "\n",
    "df = pd.DataFrame(data)\n",
    "\n",
    "# Step 1: Preprocess the data (if needed, in this example we'll just scale the data)\n",
    "scaler = MinMaxScaler()\n",
    "scaled_data = scaler.fit_transform(df)\n",
    "\n",
    "# Step 2: Convert data to DTM-like format (optional, depending on the structure of your data)\n",
    "dtm = pd.DataFrame(scaled_data, columns=df.columns)\n",
    "\n",
    "# Step 3: Apply LDA\n",
    "n_topics = 2\n",
    "lda = LatentDirichletAllocation(n_components=n_topics, random_state=42)\n",
    "topic_dist = lda.fit_transform(dtm)\n",
    "\n",
    "# Print the topic distribution for each sample\n",
    "print(topic_dist)\n"
   ]
  },
  {
   "cell_type": "markdown",
   "id": "f5975cc5",
   "metadata": {},
   "source": [
    "## Metrics"
   ]
  },
  {
   "cell_type": "code",
   "execution_count": null,
   "id": "15bc4bc2",
   "metadata": {},
   "outputs": [],
   "source": [
    "# from sklearn.metrics import silhouette_score\n",
    "# from sklearn.metrics import davies_bouldin_score\n",
    "# from sklearn.metrics import calinski_harabasz_score\n",
    "\n",
    "\n",
    "\n",
    "# # Calculate the silhouette score (ranges from -1 to 1, higher is better)\n",
    "# silhouette_avg = silhouette_score(ohe, kmeans_clusters)\n",
    "# print(\"Silhouette Score:\", silhouette_avg)\n",
    "\n",
    "# # Calculate the Davies-Bouldin index (lower is better)\n",
    "# davies_bouldin_avg = davies_bouldin_score(ohe, kmeans_clusters)\n",
    "# print(\"Davies-Bouldin Index:\", davies_bouldin_avg)"
   ]
  },
  {
   "cell_type": "code",
   "execution_count": null,
   "id": "7ebf6d0f",
   "metadata": {},
   "outputs": [],
   "source": []
  },
  {
   "cell_type": "code",
   "execution_count": null,
   "id": "5078956a",
   "metadata": {},
   "outputs": [],
   "source": []
  }
 ],
 "metadata": {
  "kernelspec": {
   "display_name": "Python 3 (ipykernel)",
   "language": "python",
   "name": "python3"
  },
  "language_info": {
   "codemirror_mode": {
    "name": "ipython",
    "version": 3
   },
   "file_extension": ".py",
   "mimetype": "text/x-python",
   "name": "python",
   "nbconvert_exporter": "python",
   "pygments_lexer": "ipython3",
   "version": "3.9.12"
  }
 },
 "nbformat": 4,
 "nbformat_minor": 5
}
