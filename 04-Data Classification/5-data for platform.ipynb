{
 "cells": [
  {
   "cell_type": "code",
   "execution_count": 1,
   "id": "47ae43bc",
   "metadata": {},
   "outputs": [],
   "source": [
    "import pandas as pd\n",
    "import numpy as np\n",
    "import matplotlib.pyplot as plt\n",
    "import seaborn as sn\n",
    "import warnings\n",
    "warnings.filterwarnings('ignore')"
   ]
  },
  {
   "cell_type": "code",
   "execution_count": 2,
   "id": "02bb59b8",
   "metadata": {},
   "outputs": [
    {
     "name": "stdout",
     "output_type": "stream",
     "text": [
      "(61698, 14)\n"
     ]
    }
   ],
   "source": [
    "data = pd.read_csv('full_data_labeled.csv')\n",
    "data = data.drop(columns=['CI SCORE GLOVE','CI SCORE GLOVE 2','CI SCORE GLOVE 50','CI MEAN SCORES']).replace(np.nan,'None')\n",
    "print(data.shape)"
   ]
  },
  {
   "cell_type": "code",
   "execution_count": 8,
   "id": "efd49262",
   "metadata": {
    "scrolled": true
   },
   "outputs": [
    {
     "data": {
      "text/plain": [
       "Index(['index', 'Vulnerability Type(s)', 'Vulnerability Name', 'Access',\n",
       "       'Complexity', 'Authentication', 'Conf.', 'Integ.', 'Avail', 'Score',\n",
       "       'Number Of Related Vulnerabilities', 'Kmeans_clusters', 'CI SCORE',\n",
       "       'Label'],\n",
       "      dtype='object')"
      ]
     },
     "execution_count": 8,
     "metadata": {},
     "output_type": "execute_result"
    }
   ],
   "source": [
    "data.columns"
   ]
  },
  {
   "cell_type": "code",
   "execution_count": 13,
   "id": "555ae043",
   "metadata": {
    "collapsed": true
   },
   "outputs": [
    {
     "data": {
      "text/html": [
       "<div>\n",
       "<style scoped>\n",
       "    .dataframe tbody tr th:only-of-type {\n",
       "        vertical-align: middle;\n",
       "    }\n",
       "\n",
       "    .dataframe tbody tr th {\n",
       "        vertical-align: top;\n",
       "    }\n",
       "\n",
       "    .dataframe thead th {\n",
       "        text-align: right;\n",
       "    }\n",
       "</style>\n",
       "<table border=\"1\" class=\"dataframe\">\n",
       "  <thead>\n",
       "    <tr style=\"text-align: right;\">\n",
       "      <th></th>\n",
       "      <th>index</th>\n",
       "      <th>Kmeans_clusters</th>\n",
       "      <th>Label</th>\n",
       "    </tr>\n",
       "  </thead>\n",
       "  <tbody>\n",
       "    <tr>\n",
       "      <th>0</th>\n",
       "      <td>1</td>\n",
       "      <td>1</td>\n",
       "      <td>no</td>\n",
       "    </tr>\n",
       "    <tr>\n",
       "      <th>1</th>\n",
       "      <td>2</td>\n",
       "      <td>0</td>\n",
       "      <td>yes</td>\n",
       "    </tr>\n",
       "    <tr>\n",
       "      <th>2</th>\n",
       "      <td>3</td>\n",
       "      <td>0</td>\n",
       "      <td>yes</td>\n",
       "    </tr>\n",
       "    <tr>\n",
       "      <th>3</th>\n",
       "      <td>4</td>\n",
       "      <td>0</td>\n",
       "      <td>yes</td>\n",
       "    </tr>\n",
       "    <tr>\n",
       "      <th>4</th>\n",
       "      <td>5</td>\n",
       "      <td>0</td>\n",
       "      <td>yes</td>\n",
       "    </tr>\n",
       "    <tr>\n",
       "      <th>...</th>\n",
       "      <td>...</td>\n",
       "      <td>...</td>\n",
       "      <td>...</td>\n",
       "    </tr>\n",
       "    <tr>\n",
       "      <th>61693</th>\n",
       "      <td>61694</td>\n",
       "      <td>1</td>\n",
       "      <td>no</td>\n",
       "    </tr>\n",
       "    <tr>\n",
       "      <th>61694</th>\n",
       "      <td>61695</td>\n",
       "      <td>0</td>\n",
       "      <td>yes</td>\n",
       "    </tr>\n",
       "    <tr>\n",
       "      <th>61695</th>\n",
       "      <td>61696</td>\n",
       "      <td>0</td>\n",
       "      <td>yes</td>\n",
       "    </tr>\n",
       "    <tr>\n",
       "      <th>61696</th>\n",
       "      <td>61697</td>\n",
       "      <td>1</td>\n",
       "      <td>no</td>\n",
       "    </tr>\n",
       "    <tr>\n",
       "      <th>61697</th>\n",
       "      <td>61698</td>\n",
       "      <td>0</td>\n",
       "      <td>yes</td>\n",
       "    </tr>\n",
       "  </tbody>\n",
       "</table>\n",
       "<p>61698 rows × 3 columns</p>\n",
       "</div>"
      ],
      "text/plain": [
       "       index  Kmeans_clusters Label\n",
       "0          1                1    no\n",
       "1          2                0   yes\n",
       "2          3                0   yes\n",
       "3          4                0   yes\n",
       "4          5                0   yes\n",
       "...      ...              ...   ...\n",
       "61693  61694                1    no\n",
       "61694  61695                0   yes\n",
       "61695  61696                0   yes\n",
       "61696  61697                1    no\n",
       "61697  61698                0   yes\n",
       "\n",
       "[61698 rows x 3 columns]"
      ]
     },
     "execution_count": 13,
     "metadata": {},
     "output_type": "execute_result"
    }
   ],
   "source": [
    "data[['index','Kmeans_clusters','Label']]"
   ]
  },
  {
   "cell_type": "code",
   "execution_count": null,
   "id": "4f2f3eaf",
   "metadata": {},
   "outputs": [],
   "source": []
  },
  {
   "cell_type": "code",
   "execution_count": 9,
   "id": "3e0fa25e",
   "metadata": {},
   "outputs": [
    {
     "data": {
      "text/plain": [
       "(61698, 18)"
      ]
     },
     "execution_count": 9,
     "metadata": {},
     "output_type": "execute_result"
    }
   ],
   "source": [
    "data2 = pd.read_csv('full_data_clustered_ssim_V4.csv').replace(np.nan,'None')\\\n",
    "          .drop(columns=['cluster', 'cluster_2', 'CI SCORE GLOVE', 'CI SCORE GLOVE 2', 'CI SCORE GLOVE 50', 'CLEAN TEXT'])\n",
    "data2.shape"
   ]
  },
  {
   "cell_type": "code",
   "execution_count": 10,
   "id": "f9e1a240",
   "metadata": {},
   "outputs": [
    {
     "data": {
      "text/plain": [
       "Index(['CVE ID', 'Publish Date', 'Update Date',\n",
       "       'Number Of Related Vulnerabilities', 'index', 'CWE ID',\n",
       "       'Vulnerability Type(s)', 'Score', 'Access', 'Complexity',\n",
       "       'Authentication', 'Conf.', 'Integ.', 'Avail', 'CVE Summary',\n",
       "       'Vulnerability Name', 'Vulnerability Description', 'CI SCORE'],\n",
       "      dtype='object')"
      ]
     },
     "execution_count": 10,
     "metadata": {},
     "output_type": "execute_result"
    }
   ],
   "source": [
    "data2.columns"
   ]
  },
  {
   "cell_type": "code",
   "execution_count": 14,
   "id": "e657fe78",
   "metadata": {
    "collapsed": true
   },
   "outputs": [
    {
     "data": {
      "text/html": [
       "<div>\n",
       "<style scoped>\n",
       "    .dataframe tbody tr th:only-of-type {\n",
       "        vertical-align: middle;\n",
       "    }\n",
       "\n",
       "    .dataframe tbody tr th {\n",
       "        vertical-align: top;\n",
       "    }\n",
       "\n",
       "    .dataframe thead th {\n",
       "        text-align: right;\n",
       "    }\n",
       "</style>\n",
       "<table border=\"1\" class=\"dataframe\">\n",
       "  <thead>\n",
       "    <tr style=\"text-align: right;\">\n",
       "      <th></th>\n",
       "      <th>CVE ID</th>\n",
       "      <th>Publish Date</th>\n",
       "      <th>Update Date</th>\n",
       "      <th>Number Of Related Vulnerabilities</th>\n",
       "      <th>index</th>\n",
       "      <th>CWE ID</th>\n",
       "      <th>Vulnerability Type(s)</th>\n",
       "      <th>Score</th>\n",
       "      <th>Access</th>\n",
       "      <th>Complexity</th>\n",
       "      <th>Authentication</th>\n",
       "      <th>Conf.</th>\n",
       "      <th>Integ.</th>\n",
       "      <th>Avail</th>\n",
       "      <th>CVE Summary</th>\n",
       "      <th>Vulnerability Name</th>\n",
       "      <th>Vulnerability Description</th>\n",
       "      <th>CI SCORE</th>\n",
       "    </tr>\n",
       "  </thead>\n",
       "  <tbody>\n",
       "    <tr>\n",
       "      <th>0</th>\n",
       "      <td>CVE-2019-1020019</td>\n",
       "      <td>2019-07-29</td>\n",
       "      <td>2019-07-31</td>\n",
       "      <td>22413.0</td>\n",
       "      <td>1</td>\n",
       "      <td>79</td>\n",
       "      <td>XSS</td>\n",
       "      <td>4.3</td>\n",
       "      <td>Remote</td>\n",
       "      <td>Medium</td>\n",
       "      <td>Not required</td>\n",
       "      <td>None</td>\n",
       "      <td>Partial</td>\n",
       "      <td>None</td>\n",
       "      <td>invenio-previewer before 1.0.0a12 allows XSS.</td>\n",
       "      <td>Failure to Preserve Web Page Structure ('Cross...</td>\n",
       "      <td>The software does not sufficiently valida...</td>\n",
       "      <td>0.666677</td>\n",
       "    </tr>\n",
       "    <tr>\n",
       "      <th>1</th>\n",
       "      <td>CVE-2019-1020018</td>\n",
       "      <td>2019-07-29</td>\n",
       "      <td>2022-04-18</td>\n",
       "      <td>3011.0</td>\n",
       "      <td>2</td>\n",
       "      <td>287</td>\n",
       "      <td>Unknown</td>\n",
       "      <td>7.5</td>\n",
       "      <td>Remote</td>\n",
       "      <td>Low</td>\n",
       "      <td>Not required</td>\n",
       "      <td>Partial</td>\n",
       "      <td>Partial</td>\n",
       "      <td>Partial</td>\n",
       "      <td>Discourse before 2.3.0 and 2.4.x before 2.4.0....</td>\n",
       "      <td>Improper Authentication</td>\n",
       "      <td>When an actor claims to have a given iden...</td>\n",
       "      <td>0.625171</td>\n",
       "    </tr>\n",
       "    <tr>\n",
       "      <th>2</th>\n",
       "      <td>CVE-2019-1020016</td>\n",
       "      <td>2019-07-29</td>\n",
       "      <td>2019-08-01</td>\n",
       "      <td>754.0</td>\n",
       "      <td>3</td>\n",
       "      <td>601</td>\n",
       "      <td>Unknown</td>\n",
       "      <td>5.8</td>\n",
       "      <td>Remote</td>\n",
       "      <td>Medium</td>\n",
       "      <td>Not required</td>\n",
       "      <td>Partial</td>\n",
       "      <td>Partial</td>\n",
       "      <td>None</td>\n",
       "      <td>ASH-AIO before 2.0.0.3 allows an open redirect.</td>\n",
       "      <td>URL Redirection to Untrusted Site ('Open Redir...</td>\n",
       "      <td>A web application accepts a user-controll...</td>\n",
       "      <td>0.636100</td>\n",
       "    </tr>\n",
       "    <tr>\n",
       "      <th>3</th>\n",
       "      <td>CVE-2019-1020015</td>\n",
       "      <td>2019-07-29</td>\n",
       "      <td>2021-07-21</td>\n",
       "      <td>9380.0</td>\n",
       "      <td>4</td>\n",
       "      <td>20</td>\n",
       "      <td>Unknown</td>\n",
       "      <td>5.0</td>\n",
       "      <td>Remote</td>\n",
       "      <td>Low</td>\n",
       "      <td>Not required</td>\n",
       "      <td>None</td>\n",
       "      <td>Partial</td>\n",
       "      <td>None</td>\n",
       "      <td>graphql-engine (aka Hasura GraphQL Engine) bef...</td>\n",
       "      <td>Improper Input Validation</td>\n",
       "      <td>The product does not validate or incorrec...</td>\n",
       "      <td>0.719175</td>\n",
       "    </tr>\n",
       "    <tr>\n",
       "      <th>4</th>\n",
       "      <td>CVE-2019-1020014</td>\n",
       "      <td>2019-07-29</td>\n",
       "      <td>2022-10-06</td>\n",
       "      <td>394.0</td>\n",
       "      <td>5</td>\n",
       "      <td>415</td>\n",
       "      <td>Unknown</td>\n",
       "      <td>2.1</td>\n",
       "      <td>Local</td>\n",
       "      <td>Low</td>\n",
       "      <td>Not required</td>\n",
       "      <td>Partial</td>\n",
       "      <td>None</td>\n",
       "      <td>None</td>\n",
       "      <td>docker-credential-helpers before 0.6.3 has a d...</td>\n",
       "      <td>Double Free</td>\n",
       "      <td>The product calls free() twice on the sam...</td>\n",
       "      <td>0.707726</td>\n",
       "    </tr>\n",
       "    <tr>\n",
       "      <th>...</th>\n",
       "      <td>...</td>\n",
       "      <td>...</td>\n",
       "      <td>...</td>\n",
       "      <td>...</td>\n",
       "      <td>...</td>\n",
       "      <td>...</td>\n",
       "      <td>...</td>\n",
       "      <td>...</td>\n",
       "      <td>...</td>\n",
       "      <td>...</td>\n",
       "      <td>...</td>\n",
       "      <td>...</td>\n",
       "      <td>...</td>\n",
       "      <td>...</td>\n",
       "      <td>...</td>\n",
       "      <td>...</td>\n",
       "      <td>...</td>\n",
       "      <td>...</td>\n",
       "    </tr>\n",
       "    <tr>\n",
       "      <th>61693</th>\n",
       "      <td>CVE-2008-10001</td>\n",
       "      <td>2022-03-28</td>\n",
       "      <td>2022-04-08</td>\n",
       "      <td>22413.0</td>\n",
       "      <td>61694</td>\n",
       "      <td>79</td>\n",
       "      <td>XSS</td>\n",
       "      <td>4.3</td>\n",
       "      <td>Remote</td>\n",
       "      <td>Medium</td>\n",
       "      <td>Not required</td>\n",
       "      <td>None</td>\n",
       "      <td>Partial</td>\n",
       "      <td>None</td>\n",
       "      <td>** UNSUPPORTED WHEN ASSIGNED ** A vulnerabilit...</td>\n",
       "      <td>Failure to Preserve Web Page Structure ('Cross...</td>\n",
       "      <td>The software does not sufficiently valida...</td>\n",
       "      <td>0.706891</td>\n",
       "    </tr>\n",
       "    <tr>\n",
       "      <th>61694</th>\n",
       "      <td>CVE-2007-20001</td>\n",
       "      <td>2022-02-06</td>\n",
       "      <td>2022-09-01</td>\n",
       "      <td>1320.0</td>\n",
       "      <td>61695</td>\n",
       "      <td>400</td>\n",
       "      <td>DoS</td>\n",
       "      <td>5.0</td>\n",
       "      <td>Remote</td>\n",
       "      <td>Low</td>\n",
       "      <td>Not required</td>\n",
       "      <td>None</td>\n",
       "      <td>None</td>\n",
       "      <td>Partial</td>\n",
       "      <td>A flaw was found in StarWind iSCSI target. An ...</td>\n",
       "      <td>Uncontrolled Resource Consumption ('Resource E...</td>\n",
       "      <td>The software does not properly restrict t...</td>\n",
       "      <td>0.789261</td>\n",
       "    </tr>\n",
       "    <tr>\n",
       "      <th>61695</th>\n",
       "      <td>CVE-2005-10001</td>\n",
       "      <td>2022-03-28</td>\n",
       "      <td>2022-04-08</td>\n",
       "      <td>754.0</td>\n",
       "      <td>61696</td>\n",
       "      <td>601</td>\n",
       "      <td>Unknown</td>\n",
       "      <td>5.8</td>\n",
       "      <td>Remote</td>\n",
       "      <td>Medium</td>\n",
       "      <td>Not required</td>\n",
       "      <td>Partial</td>\n",
       "      <td>Partial</td>\n",
       "      <td>None</td>\n",
       "      <td>** UNSUPPORTED WHEN ASSIGNED ** A vulnerabilit...</td>\n",
       "      <td>URL Redirection to Untrusted Site ('Open Redir...</td>\n",
       "      <td>A web application accepts a user-controll...</td>\n",
       "      <td>0.696738</td>\n",
       "    </tr>\n",
       "    <tr>\n",
       "      <th>61696</th>\n",
       "      <td>CVE-2003-5003</td>\n",
       "      <td>2022-03-28</td>\n",
       "      <td>2022-04-06</td>\n",
       "      <td>22413.0</td>\n",
       "      <td>61697</td>\n",
       "      <td>79</td>\n",
       "      <td>XSS</td>\n",
       "      <td>4.3</td>\n",
       "      <td>Remote</td>\n",
       "      <td>Medium</td>\n",
       "      <td>Not required</td>\n",
       "      <td>None</td>\n",
       "      <td>Partial</td>\n",
       "      <td>None</td>\n",
       "      <td>** UNSUPPORTED WHEN ASSIGNED ** A vulnerabilit...</td>\n",
       "      <td>Failure to Preserve Web Page Structure ('Cross...</td>\n",
       "      <td>The software does not sufficiently valida...</td>\n",
       "      <td>0.711290</td>\n",
       "    </tr>\n",
       "    <tr>\n",
       "      <th>61697</th>\n",
       "      <td>CVE-2003-5002</td>\n",
       "      <td>2022-03-28</td>\n",
       "      <td>2022-04-06</td>\n",
       "      <td>403.0</td>\n",
       "      <td>61698</td>\n",
       "      <td>319</td>\n",
       "      <td>Unknown</td>\n",
       "      <td>5.0</td>\n",
       "      <td>Remote</td>\n",
       "      <td>Low</td>\n",
       "      <td>Not required</td>\n",
       "      <td>Partial</td>\n",
       "      <td>None</td>\n",
       "      <td>None</td>\n",
       "      <td>** UNSUPPORTED WHEN ASSIGNED ** A vulnerabilit...</td>\n",
       "      <td>Cleartext Transmission of Sensitive Information</td>\n",
       "      <td>The software transmits sensitive or secur...</td>\n",
       "      <td>0.804882</td>\n",
       "    </tr>\n",
       "  </tbody>\n",
       "</table>\n",
       "<p>61698 rows × 18 columns</p>\n",
       "</div>"
      ],
      "text/plain": [
       "                 CVE ID Publish Date Update Date  \\\n",
       "0      CVE-2019-1020019   2019-07-29  2019-07-31   \n",
       "1      CVE-2019-1020018   2019-07-29  2022-04-18   \n",
       "2      CVE-2019-1020016   2019-07-29  2019-08-01   \n",
       "3      CVE-2019-1020015   2019-07-29  2021-07-21   \n",
       "4      CVE-2019-1020014   2019-07-29  2022-10-06   \n",
       "...                 ...          ...         ...   \n",
       "61693    CVE-2008-10001   2022-03-28  2022-04-08   \n",
       "61694    CVE-2007-20001   2022-02-06  2022-09-01   \n",
       "61695    CVE-2005-10001   2022-03-28  2022-04-08   \n",
       "61696     CVE-2003-5003   2022-03-28  2022-04-06   \n",
       "61697     CVE-2003-5002   2022-03-28  2022-04-06   \n",
       "\n",
       "       Number Of Related Vulnerabilities  index  CWE ID Vulnerability Type(s)  \\\n",
       "0                                22413.0      1      79                   XSS   \n",
       "1                                 3011.0      2     287               Unknown   \n",
       "2                                  754.0      3     601               Unknown   \n",
       "3                                 9380.0      4      20               Unknown   \n",
       "4                                  394.0      5     415               Unknown   \n",
       "...                                  ...    ...     ...                   ...   \n",
       "61693                            22413.0  61694      79                   XSS   \n",
       "61694                             1320.0  61695     400                   DoS   \n",
       "61695                              754.0  61696     601               Unknown   \n",
       "61696                            22413.0  61697      79                   XSS   \n",
       "61697                              403.0  61698     319               Unknown   \n",
       "\n",
       "       Score  Access Complexity Authentication    Conf.   Integ.    Avail  \\\n",
       "0        4.3  Remote     Medium   Not required     None  Partial     None   \n",
       "1        7.5  Remote        Low   Not required  Partial  Partial  Partial   \n",
       "2        5.8  Remote     Medium   Not required  Partial  Partial     None   \n",
       "3        5.0  Remote        Low   Not required     None  Partial     None   \n",
       "4        2.1   Local        Low   Not required  Partial     None     None   \n",
       "...      ...     ...        ...            ...      ...      ...      ...   \n",
       "61693    4.3  Remote     Medium   Not required     None  Partial     None   \n",
       "61694    5.0  Remote        Low   Not required     None     None  Partial   \n",
       "61695    5.8  Remote     Medium   Not required  Partial  Partial     None   \n",
       "61696    4.3  Remote     Medium   Not required     None  Partial     None   \n",
       "61697    5.0  Remote        Low   Not required  Partial     None     None   \n",
       "\n",
       "                                             CVE Summary  \\\n",
       "0          invenio-previewer before 1.0.0a12 allows XSS.   \n",
       "1      Discourse before 2.3.0 and 2.4.x before 2.4.0....   \n",
       "2        ASH-AIO before 2.0.0.3 allows an open redirect.   \n",
       "3      graphql-engine (aka Hasura GraphQL Engine) bef...   \n",
       "4      docker-credential-helpers before 0.6.3 has a d...   \n",
       "...                                                  ...   \n",
       "61693  ** UNSUPPORTED WHEN ASSIGNED ** A vulnerabilit...   \n",
       "61694  A flaw was found in StarWind iSCSI target. An ...   \n",
       "61695  ** UNSUPPORTED WHEN ASSIGNED ** A vulnerabilit...   \n",
       "61696  ** UNSUPPORTED WHEN ASSIGNED ** A vulnerabilit...   \n",
       "61697  ** UNSUPPORTED WHEN ASSIGNED ** A vulnerabilit...   \n",
       "\n",
       "                                      Vulnerability Name  \\\n",
       "0      Failure to Preserve Web Page Structure ('Cross...   \n",
       "1                                Improper Authentication   \n",
       "2      URL Redirection to Untrusted Site ('Open Redir...   \n",
       "3                              Improper Input Validation   \n",
       "4                                            Double Free   \n",
       "...                                                  ...   \n",
       "61693  Failure to Preserve Web Page Structure ('Cross...   \n",
       "61694  Uncontrolled Resource Consumption ('Resource E...   \n",
       "61695  URL Redirection to Untrusted Site ('Open Redir...   \n",
       "61696  Failure to Preserve Web Page Structure ('Cross...   \n",
       "61697    Cleartext Transmission of Sensitive Information   \n",
       "\n",
       "                               Vulnerability Description  CI SCORE  \n",
       "0           The software does not sufficiently valida...  0.666677  \n",
       "1           When an actor claims to have a given iden...  0.625171  \n",
       "2           A web application accepts a user-controll...  0.636100  \n",
       "3           The product does not validate or incorrec...  0.719175  \n",
       "4           The product calls free() twice on the sam...  0.707726  \n",
       "...                                                  ...       ...  \n",
       "61693       The software does not sufficiently valida...  0.706891  \n",
       "61694       The software does not properly restrict t...  0.789261  \n",
       "61695       A web application accepts a user-controll...  0.696738  \n",
       "61696       The software does not sufficiently valida...  0.711290  \n",
       "61697       The software transmits sensitive or secur...  0.804882  \n",
       "\n",
       "[61698 rows x 18 columns]"
      ]
     },
     "execution_count": 14,
     "metadata": {},
     "output_type": "execute_result"
    }
   ],
   "source": [
    "data2"
   ]
  },
  {
   "cell_type": "code",
   "execution_count": null,
   "id": "16d47c55",
   "metadata": {},
   "outputs": [],
   "source": []
  },
  {
   "cell_type": "code",
   "execution_count": 19,
   "id": "d0988b15",
   "metadata": {},
   "outputs": [],
   "source": [
    "pd.concat([data2,data[['index','Kmeans_clusters','Label']]] ,axis=1).to_csv('final_data.csv',index=False)"
   ]
  },
  {
   "cell_type": "code",
   "execution_count": 22,
   "id": "1fab178e",
   "metadata": {},
   "outputs": [],
   "source": [
    "df = pd.read_csv('final_data.csv').replace(np.nan,'None')"
   ]
  },
  {
   "cell_type": "code",
   "execution_count": 23,
   "id": "4b131c1b",
   "metadata": {},
   "outputs": [],
   "source": [
    "df['Publish Date'] = pd.to_datetime(df['Publish Date'])\n",
    "df['Year'] = df['Publish Date'].dt.year"
   ]
  },
  {
   "cell_type": "code",
   "execution_count": 32,
   "id": "92778362",
   "metadata": {},
   "outputs": [
    {
     "data": {
      "text/plain": [
       "Year\n",
       "2019    5.637544\n",
       "2020    5.547647\n",
       "2021    5.461358\n",
       "2022    3.012041\n",
       "Name: Score, dtype: float64"
      ]
     },
     "execution_count": 32,
     "metadata": {},
     "output_type": "execute_result"
    }
   ],
   "source": [
    "df.groupby('Year')['Score'].mean()"
   ]
  },
  {
   "cell_type": "code",
   "execution_count": 33,
   "id": "5ef6a4fe",
   "metadata": {},
   "outputs": [
    {
     "data": {
      "text/plain": [
       "Year\n",
       "2019    7579.003687\n",
       "2020    6707.248249\n",
       "2021    6919.046295\n",
       "2022    7071.977109\n",
       "Name: Number Of Related Vulnerabilities, dtype: float64"
      ]
     },
     "execution_count": 33,
     "metadata": {},
     "output_type": "execute_result"
    }
   ],
   "source": [
    "df.groupby('Year')['Number Of Related Vulnerabilities'].mean()"
   ]
  },
  {
   "cell_type": "code",
   "execution_count": 46,
   "id": "4d3cd0b7",
   "metadata": {},
   "outputs": [
    {
     "data": {
      "text/html": [
       "<div>\n",
       "<style scoped>\n",
       "    .dataframe tbody tr th:only-of-type {\n",
       "        vertical-align: middle;\n",
       "    }\n",
       "\n",
       "    .dataframe tbody tr th {\n",
       "        vertical-align: top;\n",
       "    }\n",
       "\n",
       "    .dataframe thead th {\n",
       "        text-align: right;\n",
       "    }\n",
       "</style>\n",
       "<table border=\"1\" class=\"dataframe\">\n",
       "  <thead>\n",
       "    <tr style=\"text-align: right;\">\n",
       "      <th></th>\n",
       "      <th>Score</th>\n",
       "      <th>Number Of Related Vulnerabilities</th>\n",
       "      <th>CI SCORE</th>\n",
       "    </tr>\n",
       "    <tr>\n",
       "      <th>Year</th>\n",
       "      <th></th>\n",
       "      <th></th>\n",
       "      <th></th>\n",
       "    </tr>\n",
       "  </thead>\n",
       "  <tbody>\n",
       "    <tr>\n",
       "      <th>2019</th>\n",
       "      <td>13291</td>\n",
       "      <td>13291</td>\n",
       "      <td>13291</td>\n",
       "    </tr>\n",
       "    <tr>\n",
       "      <th>2020</th>\n",
       "      <td>14280</td>\n",
       "      <td>14280</td>\n",
       "      <td>14280</td>\n",
       "    </tr>\n",
       "    <tr>\n",
       "      <th>2021</th>\n",
       "      <td>14818</td>\n",
       "      <td>14818</td>\n",
       "      <td>14818</td>\n",
       "    </tr>\n",
       "    <tr>\n",
       "      <th>2022</th>\n",
       "      <td>19309</td>\n",
       "      <td>19309</td>\n",
       "      <td>19309</td>\n",
       "    </tr>\n",
       "  </tbody>\n",
       "</table>\n",
       "</div>"
      ],
      "text/plain": [
       "      Score  Number Of Related Vulnerabilities  CI SCORE\n",
       "Year                                                    \n",
       "2019  13291                              13291     13291\n",
       "2020  14280                              14280     14280\n",
       "2021  14818                              14818     14818\n",
       "2022  19309                              19309     19309"
      ]
     },
     "execution_count": 46,
     "metadata": {},
     "output_type": "execute_result"
    }
   ],
   "source": [
    "df.groupby('Year')[['Score','Number Of Related Vulnerabilities','CI SCORE']].count()"
   ]
  },
  {
   "cell_type": "code",
   "execution_count": 122,
   "id": "89b17c73",
   "metadata": {},
   "outputs": [],
   "source": [
    "dictt = {\n",
    "    'Score': [],\n",
    "    'Number': []\n",
    "}\n",
    "for i in range(11):\n",
    "    score_range = (i, i+1)\n",
    "    filtered_df = df[(df['Score'] >= score_range[0]) & (df['Score'] < score_range[1])]\n",
    "    num_records = len(filtered_df)\n",
    "    dictt['Score'].append(score_range)\n",
    "    dictt['Number'].append(num_records)\n",
    "    #print('Score:', score_range, '\\tNumber:', num_records)\n",
    "\n",
    "# dictt['Total Sum'] = sum(dictt['Number'])\n",
    "df_dictt = pd.DataFrame(dictt)\n"
   ]
  },
  {
   "cell_type": "code",
   "execution_count": 135,
   "id": "69fb78e4",
   "metadata": {},
   "outputs": [
    {
     "data": {
      "application/vnd.plotly.v1+json": {
       "config": {
        "plotlyServerURL": "https://plot.ly"
       },
       "data": [
        {
         "alignmentgroup": "True",
         "hovertemplate": "Number=%{text}<br>Score=%{y}<extra></extra>",
         "legendgroup": "",
         "marker": {
          "color": "#636efa",
          "pattern": {
           "shape": ""
          }
         },
         "name": "",
         "offsetgroup": "",
         "orientation": "h",
         "showlegend": false,
         "text": [
          9062,
          251,
          2796,
          5149,
          13928,
          8795,
          8714,
          8626,
          327,
          2386,
          1664
         ],
         "textposition": "auto",
         "type": "bar",
         "x": [
          9062,
          251,
          2796,
          5149,
          13928,
          8795,
          8714,
          8626,
          327,
          2386,
          1664
         ],
         "xaxis": "x",
         "y": [
          0,
          1,
          2,
          3,
          4,
          5,
          6,
          7,
          8,
          9,
          10
         ],
         "yaxis": "y"
        }
       ],
       "layout": {
        "barmode": "relative",
        "legend": {
         "tracegroupgap": 0
        },
        "margin": {
         "t": 60
        },
        "template": {
         "data": {
          "bar": [
           {
            "error_x": {
             "color": "#2a3f5f"
            },
            "error_y": {
             "color": "#2a3f5f"
            },
            "marker": {
             "line": {
              "color": "#E5ECF6",
              "width": 0.5
             },
             "pattern": {
              "fillmode": "overlay",
              "size": 10,
              "solidity": 0.2
             }
            },
            "type": "bar"
           }
          ],
          "barpolar": [
           {
            "marker": {
             "line": {
              "color": "#E5ECF6",
              "width": 0.5
             },
             "pattern": {
              "fillmode": "overlay",
              "size": 10,
              "solidity": 0.2
             }
            },
            "type": "barpolar"
           }
          ],
          "carpet": [
           {
            "aaxis": {
             "endlinecolor": "#2a3f5f",
             "gridcolor": "white",
             "linecolor": "white",
             "minorgridcolor": "white",
             "startlinecolor": "#2a3f5f"
            },
            "baxis": {
             "endlinecolor": "#2a3f5f",
             "gridcolor": "white",
             "linecolor": "white",
             "minorgridcolor": "white",
             "startlinecolor": "#2a3f5f"
            },
            "type": "carpet"
           }
          ],
          "choropleth": [
           {
            "colorbar": {
             "outlinewidth": 0,
             "ticks": ""
            },
            "type": "choropleth"
           }
          ],
          "contour": [
           {
            "colorbar": {
             "outlinewidth": 0,
             "ticks": ""
            },
            "colorscale": [
             [
              0,
              "#0d0887"
             ],
             [
              0.1111111111111111,
              "#46039f"
             ],
             [
              0.2222222222222222,
              "#7201a8"
             ],
             [
              0.3333333333333333,
              "#9c179e"
             ],
             [
              0.4444444444444444,
              "#bd3786"
             ],
             [
              0.5555555555555556,
              "#d8576b"
             ],
             [
              0.6666666666666666,
              "#ed7953"
             ],
             [
              0.7777777777777778,
              "#fb9f3a"
             ],
             [
              0.8888888888888888,
              "#fdca26"
             ],
             [
              1,
              "#f0f921"
             ]
            ],
            "type": "contour"
           }
          ],
          "contourcarpet": [
           {
            "colorbar": {
             "outlinewidth": 0,
             "ticks": ""
            },
            "type": "contourcarpet"
           }
          ],
          "heatmap": [
           {
            "colorbar": {
             "outlinewidth": 0,
             "ticks": ""
            },
            "colorscale": [
             [
              0,
              "#0d0887"
             ],
             [
              0.1111111111111111,
              "#46039f"
             ],
             [
              0.2222222222222222,
              "#7201a8"
             ],
             [
              0.3333333333333333,
              "#9c179e"
             ],
             [
              0.4444444444444444,
              "#bd3786"
             ],
             [
              0.5555555555555556,
              "#d8576b"
             ],
             [
              0.6666666666666666,
              "#ed7953"
             ],
             [
              0.7777777777777778,
              "#fb9f3a"
             ],
             [
              0.8888888888888888,
              "#fdca26"
             ],
             [
              1,
              "#f0f921"
             ]
            ],
            "type": "heatmap"
           }
          ],
          "heatmapgl": [
           {
            "colorbar": {
             "outlinewidth": 0,
             "ticks": ""
            },
            "colorscale": [
             [
              0,
              "#0d0887"
             ],
             [
              0.1111111111111111,
              "#46039f"
             ],
             [
              0.2222222222222222,
              "#7201a8"
             ],
             [
              0.3333333333333333,
              "#9c179e"
             ],
             [
              0.4444444444444444,
              "#bd3786"
             ],
             [
              0.5555555555555556,
              "#d8576b"
             ],
             [
              0.6666666666666666,
              "#ed7953"
             ],
             [
              0.7777777777777778,
              "#fb9f3a"
             ],
             [
              0.8888888888888888,
              "#fdca26"
             ],
             [
              1,
              "#f0f921"
             ]
            ],
            "type": "heatmapgl"
           }
          ],
          "histogram": [
           {
            "marker": {
             "pattern": {
              "fillmode": "overlay",
              "size": 10,
              "solidity": 0.2
             }
            },
            "type": "histogram"
           }
          ],
          "histogram2d": [
           {
            "colorbar": {
             "outlinewidth": 0,
             "ticks": ""
            },
            "colorscale": [
             [
              0,
              "#0d0887"
             ],
             [
              0.1111111111111111,
              "#46039f"
             ],
             [
              0.2222222222222222,
              "#7201a8"
             ],
             [
              0.3333333333333333,
              "#9c179e"
             ],
             [
              0.4444444444444444,
              "#bd3786"
             ],
             [
              0.5555555555555556,
              "#d8576b"
             ],
             [
              0.6666666666666666,
              "#ed7953"
             ],
             [
              0.7777777777777778,
              "#fb9f3a"
             ],
             [
              0.8888888888888888,
              "#fdca26"
             ],
             [
              1,
              "#f0f921"
             ]
            ],
            "type": "histogram2d"
           }
          ],
          "histogram2dcontour": [
           {
            "colorbar": {
             "outlinewidth": 0,
             "ticks": ""
            },
            "colorscale": [
             [
              0,
              "#0d0887"
             ],
             [
              0.1111111111111111,
              "#46039f"
             ],
             [
              0.2222222222222222,
              "#7201a8"
             ],
             [
              0.3333333333333333,
              "#9c179e"
             ],
             [
              0.4444444444444444,
              "#bd3786"
             ],
             [
              0.5555555555555556,
              "#d8576b"
             ],
             [
              0.6666666666666666,
              "#ed7953"
             ],
             [
              0.7777777777777778,
              "#fb9f3a"
             ],
             [
              0.8888888888888888,
              "#fdca26"
             ],
             [
              1,
              "#f0f921"
             ]
            ],
            "type": "histogram2dcontour"
           }
          ],
          "mesh3d": [
           {
            "colorbar": {
             "outlinewidth": 0,
             "ticks": ""
            },
            "type": "mesh3d"
           }
          ],
          "parcoords": [
           {
            "line": {
             "colorbar": {
              "outlinewidth": 0,
              "ticks": ""
             }
            },
            "type": "parcoords"
           }
          ],
          "pie": [
           {
            "automargin": true,
            "type": "pie"
           }
          ],
          "scatter": [
           {
            "fillpattern": {
             "fillmode": "overlay",
             "size": 10,
             "solidity": 0.2
            },
            "type": "scatter"
           }
          ],
          "scatter3d": [
           {
            "line": {
             "colorbar": {
              "outlinewidth": 0,
              "ticks": ""
             }
            },
            "marker": {
             "colorbar": {
              "outlinewidth": 0,
              "ticks": ""
             }
            },
            "type": "scatter3d"
           }
          ],
          "scattercarpet": [
           {
            "marker": {
             "colorbar": {
              "outlinewidth": 0,
              "ticks": ""
             }
            },
            "type": "scattercarpet"
           }
          ],
          "scattergeo": [
           {
            "marker": {
             "colorbar": {
              "outlinewidth": 0,
              "ticks": ""
             }
            },
            "type": "scattergeo"
           }
          ],
          "scattergl": [
           {
            "marker": {
             "colorbar": {
              "outlinewidth": 0,
              "ticks": ""
             }
            },
            "type": "scattergl"
           }
          ],
          "scattermapbox": [
           {
            "marker": {
             "colorbar": {
              "outlinewidth": 0,
              "ticks": ""
             }
            },
            "type": "scattermapbox"
           }
          ],
          "scatterpolar": [
           {
            "marker": {
             "colorbar": {
              "outlinewidth": 0,
              "ticks": ""
             }
            },
            "type": "scatterpolar"
           }
          ],
          "scatterpolargl": [
           {
            "marker": {
             "colorbar": {
              "outlinewidth": 0,
              "ticks": ""
             }
            },
            "type": "scatterpolargl"
           }
          ],
          "scatterternary": [
           {
            "marker": {
             "colorbar": {
              "outlinewidth": 0,
              "ticks": ""
             }
            },
            "type": "scatterternary"
           }
          ],
          "surface": [
           {
            "colorbar": {
             "outlinewidth": 0,
             "ticks": ""
            },
            "colorscale": [
             [
              0,
              "#0d0887"
             ],
             [
              0.1111111111111111,
              "#46039f"
             ],
             [
              0.2222222222222222,
              "#7201a8"
             ],
             [
              0.3333333333333333,
              "#9c179e"
             ],
             [
              0.4444444444444444,
              "#bd3786"
             ],
             [
              0.5555555555555556,
              "#d8576b"
             ],
             [
              0.6666666666666666,
              "#ed7953"
             ],
             [
              0.7777777777777778,
              "#fb9f3a"
             ],
             [
              0.8888888888888888,
              "#fdca26"
             ],
             [
              1,
              "#f0f921"
             ]
            ],
            "type": "surface"
           }
          ],
          "table": [
           {
            "cells": {
             "fill": {
              "color": "#EBF0F8"
             },
             "line": {
              "color": "white"
             }
            },
            "header": {
             "fill": {
              "color": "#C8D4E3"
             },
             "line": {
              "color": "white"
             }
            },
            "type": "table"
           }
          ]
         },
         "layout": {
          "annotationdefaults": {
           "arrowcolor": "#2a3f5f",
           "arrowhead": 0,
           "arrowwidth": 1
          },
          "autotypenumbers": "strict",
          "coloraxis": {
           "colorbar": {
            "outlinewidth": 0,
            "ticks": ""
           }
          },
          "colorscale": {
           "diverging": [
            [
             0,
             "#8e0152"
            ],
            [
             0.1,
             "#c51b7d"
            ],
            [
             0.2,
             "#de77ae"
            ],
            [
             0.3,
             "#f1b6da"
            ],
            [
             0.4,
             "#fde0ef"
            ],
            [
             0.5,
             "#f7f7f7"
            ],
            [
             0.6,
             "#e6f5d0"
            ],
            [
             0.7,
             "#b8e186"
            ],
            [
             0.8,
             "#7fbc41"
            ],
            [
             0.9,
             "#4d9221"
            ],
            [
             1,
             "#276419"
            ]
           ],
           "sequential": [
            [
             0,
             "#0d0887"
            ],
            [
             0.1111111111111111,
             "#46039f"
            ],
            [
             0.2222222222222222,
             "#7201a8"
            ],
            [
             0.3333333333333333,
             "#9c179e"
            ],
            [
             0.4444444444444444,
             "#bd3786"
            ],
            [
             0.5555555555555556,
             "#d8576b"
            ],
            [
             0.6666666666666666,
             "#ed7953"
            ],
            [
             0.7777777777777778,
             "#fb9f3a"
            ],
            [
             0.8888888888888888,
             "#fdca26"
            ],
            [
             1,
             "#f0f921"
            ]
           ],
           "sequentialminus": [
            [
             0,
             "#0d0887"
            ],
            [
             0.1111111111111111,
             "#46039f"
            ],
            [
             0.2222222222222222,
             "#7201a8"
            ],
            [
             0.3333333333333333,
             "#9c179e"
            ],
            [
             0.4444444444444444,
             "#bd3786"
            ],
            [
             0.5555555555555556,
             "#d8576b"
            ],
            [
             0.6666666666666666,
             "#ed7953"
            ],
            [
             0.7777777777777778,
             "#fb9f3a"
            ],
            [
             0.8888888888888888,
             "#fdca26"
            ],
            [
             1,
             "#f0f921"
            ]
           ]
          },
          "colorway": [
           "#636efa",
           "#EF553B",
           "#00cc96",
           "#ab63fa",
           "#FFA15A",
           "#19d3f3",
           "#FF6692",
           "#B6E880",
           "#FF97FF",
           "#FECB52"
          ],
          "font": {
           "color": "#2a3f5f"
          },
          "geo": {
           "bgcolor": "white",
           "lakecolor": "white",
           "landcolor": "#E5ECF6",
           "showlakes": true,
           "showland": true,
           "subunitcolor": "white"
          },
          "hoverlabel": {
           "align": "left"
          },
          "hovermode": "closest",
          "mapbox": {
           "style": "light"
          },
          "paper_bgcolor": "white",
          "plot_bgcolor": "#E5ECF6",
          "polar": {
           "angularaxis": {
            "gridcolor": "white",
            "linecolor": "white",
            "ticks": ""
           },
           "bgcolor": "#E5ECF6",
           "radialaxis": {
            "gridcolor": "white",
            "linecolor": "white",
            "ticks": ""
           }
          },
          "scene": {
           "xaxis": {
            "backgroundcolor": "#E5ECF6",
            "gridcolor": "white",
            "gridwidth": 2,
            "linecolor": "white",
            "showbackground": true,
            "ticks": "",
            "zerolinecolor": "white"
           },
           "yaxis": {
            "backgroundcolor": "#E5ECF6",
            "gridcolor": "white",
            "gridwidth": 2,
            "linecolor": "white",
            "showbackground": true,
            "ticks": "",
            "zerolinecolor": "white"
           },
           "zaxis": {
            "backgroundcolor": "#E5ECF6",
            "gridcolor": "white",
            "gridwidth": 2,
            "linecolor": "white",
            "showbackground": true,
            "ticks": "",
            "zerolinecolor": "white"
           }
          },
          "shapedefaults": {
           "line": {
            "color": "#2a3f5f"
           }
          },
          "ternary": {
           "aaxis": {
            "gridcolor": "white",
            "linecolor": "white",
            "ticks": ""
           },
           "baxis": {
            "gridcolor": "white",
            "linecolor": "white",
            "ticks": ""
           },
           "bgcolor": "#E5ECF6",
           "caxis": {
            "gridcolor": "white",
            "linecolor": "white",
            "ticks": ""
           }
          },
          "title": {
           "x": 0.05
          },
          "xaxis": {
           "automargin": true,
           "gridcolor": "white",
           "linecolor": "white",
           "ticks": "",
           "title": {
            "standoff": 15
           },
           "zerolinecolor": "white",
           "zerolinewidth": 2
          },
          "yaxis": {
           "automargin": true,
           "gridcolor": "white",
           "linecolor": "white",
           "ticks": "",
           "title": {
            "standoff": 15
           },
           "zerolinecolor": "white",
           "zerolinewidth": 2
          }
         }
        },
        "title": {
         "text": "Score Distribution"
        },
        "xaxis": {
         "anchor": "y",
         "domain": [
          0,
          1
         ],
         "title": {
          "text": "Number of Records"
         }
        },
        "yaxis": {
         "anchor": "x",
         "domain": [
          0,
          1
         ],
         "title": {
          "text": "Score Range"
         }
        }
       }
      },
      "text/html": [
       "<div>                            <div id=\"121b290d-c42b-4175-b0c6-418c8ba98f0f\" class=\"plotly-graph-div\" style=\"height:525px; width:100%;\"></div>            <script type=\"text/javascript\">                require([\"plotly\"], function(Plotly) {                    window.PLOTLYENV=window.PLOTLYENV || {};                                    if (document.getElementById(\"121b290d-c42b-4175-b0c6-418c8ba98f0f\")) {                    Plotly.newPlot(                        \"121b290d-c42b-4175-b0c6-418c8ba98f0f\",                        [{\"alignmentgroup\":\"True\",\"hovertemplate\":\"Number=%{text}<br>Score=%{y}<extra></extra>\",\"legendgroup\":\"\",\"marker\":{\"color\":\"#636efa\",\"pattern\":{\"shape\":\"\"}},\"name\":\"\",\"offsetgroup\":\"\",\"orientation\":\"h\",\"showlegend\":false,\"text\":[9062.0,251.0,2796.0,5149.0,13928.0,8795.0,8714.0,8626.0,327.0,2386.0,1664.0],\"textposition\":\"auto\",\"x\":[9062,251,2796,5149,13928,8795,8714,8626,327,2386,1664],\"xaxis\":\"x\",\"y\":[0,1,2,3,4,5,6,7,8,9,10],\"yaxis\":\"y\",\"type\":\"bar\"}],                        {\"template\":{\"data\":{\"histogram2dcontour\":[{\"type\":\"histogram2dcontour\",\"colorbar\":{\"outlinewidth\":0,\"ticks\":\"\"},\"colorscale\":[[0.0,\"#0d0887\"],[0.1111111111111111,\"#46039f\"],[0.2222222222222222,\"#7201a8\"],[0.3333333333333333,\"#9c179e\"],[0.4444444444444444,\"#bd3786\"],[0.5555555555555556,\"#d8576b\"],[0.6666666666666666,\"#ed7953\"],[0.7777777777777778,\"#fb9f3a\"],[0.8888888888888888,\"#fdca26\"],[1.0,\"#f0f921\"]]}],\"choropleth\":[{\"type\":\"choropleth\",\"colorbar\":{\"outlinewidth\":0,\"ticks\":\"\"}}],\"histogram2d\":[{\"type\":\"histogram2d\",\"colorbar\":{\"outlinewidth\":0,\"ticks\":\"\"},\"colorscale\":[[0.0,\"#0d0887\"],[0.1111111111111111,\"#46039f\"],[0.2222222222222222,\"#7201a8\"],[0.3333333333333333,\"#9c179e\"],[0.4444444444444444,\"#bd3786\"],[0.5555555555555556,\"#d8576b\"],[0.6666666666666666,\"#ed7953\"],[0.7777777777777778,\"#fb9f3a\"],[0.8888888888888888,\"#fdca26\"],[1.0,\"#f0f921\"]]}],\"heatmap\":[{\"type\":\"heatmap\",\"colorbar\":{\"outlinewidth\":0,\"ticks\":\"\"},\"colorscale\":[[0.0,\"#0d0887\"],[0.1111111111111111,\"#46039f\"],[0.2222222222222222,\"#7201a8\"],[0.3333333333333333,\"#9c179e\"],[0.4444444444444444,\"#bd3786\"],[0.5555555555555556,\"#d8576b\"],[0.6666666666666666,\"#ed7953\"],[0.7777777777777778,\"#fb9f3a\"],[0.8888888888888888,\"#fdca26\"],[1.0,\"#f0f921\"]]}],\"heatmapgl\":[{\"type\":\"heatmapgl\",\"colorbar\":{\"outlinewidth\":0,\"ticks\":\"\"},\"colorscale\":[[0.0,\"#0d0887\"],[0.1111111111111111,\"#46039f\"],[0.2222222222222222,\"#7201a8\"],[0.3333333333333333,\"#9c179e\"],[0.4444444444444444,\"#bd3786\"],[0.5555555555555556,\"#d8576b\"],[0.6666666666666666,\"#ed7953\"],[0.7777777777777778,\"#fb9f3a\"],[0.8888888888888888,\"#fdca26\"],[1.0,\"#f0f921\"]]}],\"contourcarpet\":[{\"type\":\"contourcarpet\",\"colorbar\":{\"outlinewidth\":0,\"ticks\":\"\"}}],\"contour\":[{\"type\":\"contour\",\"colorbar\":{\"outlinewidth\":0,\"ticks\":\"\"},\"colorscale\":[[0.0,\"#0d0887\"],[0.1111111111111111,\"#46039f\"],[0.2222222222222222,\"#7201a8\"],[0.3333333333333333,\"#9c179e\"],[0.4444444444444444,\"#bd3786\"],[0.5555555555555556,\"#d8576b\"],[0.6666666666666666,\"#ed7953\"],[0.7777777777777778,\"#fb9f3a\"],[0.8888888888888888,\"#fdca26\"],[1.0,\"#f0f921\"]]}],\"surface\":[{\"type\":\"surface\",\"colorbar\":{\"outlinewidth\":0,\"ticks\":\"\"},\"colorscale\":[[0.0,\"#0d0887\"],[0.1111111111111111,\"#46039f\"],[0.2222222222222222,\"#7201a8\"],[0.3333333333333333,\"#9c179e\"],[0.4444444444444444,\"#bd3786\"],[0.5555555555555556,\"#d8576b\"],[0.6666666666666666,\"#ed7953\"],[0.7777777777777778,\"#fb9f3a\"],[0.8888888888888888,\"#fdca26\"],[1.0,\"#f0f921\"]]}],\"mesh3d\":[{\"type\":\"mesh3d\",\"colorbar\":{\"outlinewidth\":0,\"ticks\":\"\"}}],\"scatter\":[{\"fillpattern\":{\"fillmode\":\"overlay\",\"size\":10,\"solidity\":0.2},\"type\":\"scatter\"}],\"parcoords\":[{\"type\":\"parcoords\",\"line\":{\"colorbar\":{\"outlinewidth\":0,\"ticks\":\"\"}}}],\"scatterpolargl\":[{\"type\":\"scatterpolargl\",\"marker\":{\"colorbar\":{\"outlinewidth\":0,\"ticks\":\"\"}}}],\"bar\":[{\"error_x\":{\"color\":\"#2a3f5f\"},\"error_y\":{\"color\":\"#2a3f5f\"},\"marker\":{\"line\":{\"color\":\"#E5ECF6\",\"width\":0.5},\"pattern\":{\"fillmode\":\"overlay\",\"size\":10,\"solidity\":0.2}},\"type\":\"bar\"}],\"scattergeo\":[{\"type\":\"scattergeo\",\"marker\":{\"colorbar\":{\"outlinewidth\":0,\"ticks\":\"\"}}}],\"scatterpolar\":[{\"type\":\"scatterpolar\",\"marker\":{\"colorbar\":{\"outlinewidth\":0,\"ticks\":\"\"}}}],\"histogram\":[{\"marker\":{\"pattern\":{\"fillmode\":\"overlay\",\"size\":10,\"solidity\":0.2}},\"type\":\"histogram\"}],\"scattergl\":[{\"type\":\"scattergl\",\"marker\":{\"colorbar\":{\"outlinewidth\":0,\"ticks\":\"\"}}}],\"scatter3d\":[{\"type\":\"scatter3d\",\"line\":{\"colorbar\":{\"outlinewidth\":0,\"ticks\":\"\"}},\"marker\":{\"colorbar\":{\"outlinewidth\":0,\"ticks\":\"\"}}}],\"scattermapbox\":[{\"type\":\"scattermapbox\",\"marker\":{\"colorbar\":{\"outlinewidth\":0,\"ticks\":\"\"}}}],\"scatterternary\":[{\"type\":\"scatterternary\",\"marker\":{\"colorbar\":{\"outlinewidth\":0,\"ticks\":\"\"}}}],\"scattercarpet\":[{\"type\":\"scattercarpet\",\"marker\":{\"colorbar\":{\"outlinewidth\":0,\"ticks\":\"\"}}}],\"carpet\":[{\"aaxis\":{\"endlinecolor\":\"#2a3f5f\",\"gridcolor\":\"white\",\"linecolor\":\"white\",\"minorgridcolor\":\"white\",\"startlinecolor\":\"#2a3f5f\"},\"baxis\":{\"endlinecolor\":\"#2a3f5f\",\"gridcolor\":\"white\",\"linecolor\":\"white\",\"minorgridcolor\":\"white\",\"startlinecolor\":\"#2a3f5f\"},\"type\":\"carpet\"}],\"table\":[{\"cells\":{\"fill\":{\"color\":\"#EBF0F8\"},\"line\":{\"color\":\"white\"}},\"header\":{\"fill\":{\"color\":\"#C8D4E3\"},\"line\":{\"color\":\"white\"}},\"type\":\"table\"}],\"barpolar\":[{\"marker\":{\"line\":{\"color\":\"#E5ECF6\",\"width\":0.5},\"pattern\":{\"fillmode\":\"overlay\",\"size\":10,\"solidity\":0.2}},\"type\":\"barpolar\"}],\"pie\":[{\"automargin\":true,\"type\":\"pie\"}]},\"layout\":{\"autotypenumbers\":\"strict\",\"colorway\":[\"#636efa\",\"#EF553B\",\"#00cc96\",\"#ab63fa\",\"#FFA15A\",\"#19d3f3\",\"#FF6692\",\"#B6E880\",\"#FF97FF\",\"#FECB52\"],\"font\":{\"color\":\"#2a3f5f\"},\"hovermode\":\"closest\",\"hoverlabel\":{\"align\":\"left\"},\"paper_bgcolor\":\"white\",\"plot_bgcolor\":\"#E5ECF6\",\"polar\":{\"bgcolor\":\"#E5ECF6\",\"angularaxis\":{\"gridcolor\":\"white\",\"linecolor\":\"white\",\"ticks\":\"\"},\"radialaxis\":{\"gridcolor\":\"white\",\"linecolor\":\"white\",\"ticks\":\"\"}},\"ternary\":{\"bgcolor\":\"#E5ECF6\",\"aaxis\":{\"gridcolor\":\"white\",\"linecolor\":\"white\",\"ticks\":\"\"},\"baxis\":{\"gridcolor\":\"white\",\"linecolor\":\"white\",\"ticks\":\"\"},\"caxis\":{\"gridcolor\":\"white\",\"linecolor\":\"white\",\"ticks\":\"\"}},\"coloraxis\":{\"colorbar\":{\"outlinewidth\":0,\"ticks\":\"\"}},\"colorscale\":{\"sequential\":[[0.0,\"#0d0887\"],[0.1111111111111111,\"#46039f\"],[0.2222222222222222,\"#7201a8\"],[0.3333333333333333,\"#9c179e\"],[0.4444444444444444,\"#bd3786\"],[0.5555555555555556,\"#d8576b\"],[0.6666666666666666,\"#ed7953\"],[0.7777777777777778,\"#fb9f3a\"],[0.8888888888888888,\"#fdca26\"],[1.0,\"#f0f921\"]],\"sequentialminus\":[[0.0,\"#0d0887\"],[0.1111111111111111,\"#46039f\"],[0.2222222222222222,\"#7201a8\"],[0.3333333333333333,\"#9c179e\"],[0.4444444444444444,\"#bd3786\"],[0.5555555555555556,\"#d8576b\"],[0.6666666666666666,\"#ed7953\"],[0.7777777777777778,\"#fb9f3a\"],[0.8888888888888888,\"#fdca26\"],[1.0,\"#f0f921\"]],\"diverging\":[[0,\"#8e0152\"],[0.1,\"#c51b7d\"],[0.2,\"#de77ae\"],[0.3,\"#f1b6da\"],[0.4,\"#fde0ef\"],[0.5,\"#f7f7f7\"],[0.6,\"#e6f5d0\"],[0.7,\"#b8e186\"],[0.8,\"#7fbc41\"],[0.9,\"#4d9221\"],[1,\"#276419\"]]},\"xaxis\":{\"gridcolor\":\"white\",\"linecolor\":\"white\",\"ticks\":\"\",\"title\":{\"standoff\":15},\"zerolinecolor\":\"white\",\"automargin\":true,\"zerolinewidth\":2},\"yaxis\":{\"gridcolor\":\"white\",\"linecolor\":\"white\",\"ticks\":\"\",\"title\":{\"standoff\":15},\"zerolinecolor\":\"white\",\"automargin\":true,\"zerolinewidth\":2},\"scene\":{\"xaxis\":{\"backgroundcolor\":\"#E5ECF6\",\"gridcolor\":\"white\",\"linecolor\":\"white\",\"showbackground\":true,\"ticks\":\"\",\"zerolinecolor\":\"white\",\"gridwidth\":2},\"yaxis\":{\"backgroundcolor\":\"#E5ECF6\",\"gridcolor\":\"white\",\"linecolor\":\"white\",\"showbackground\":true,\"ticks\":\"\",\"zerolinecolor\":\"white\",\"gridwidth\":2},\"zaxis\":{\"backgroundcolor\":\"#E5ECF6\",\"gridcolor\":\"white\",\"linecolor\":\"white\",\"showbackground\":true,\"ticks\":\"\",\"zerolinecolor\":\"white\",\"gridwidth\":2}},\"shapedefaults\":{\"line\":{\"color\":\"#2a3f5f\"}},\"annotationdefaults\":{\"arrowcolor\":\"#2a3f5f\",\"arrowhead\":0,\"arrowwidth\":1},\"geo\":{\"bgcolor\":\"white\",\"landcolor\":\"#E5ECF6\",\"subunitcolor\":\"white\",\"showland\":true,\"showlakes\":true,\"lakecolor\":\"white\"},\"title\":{\"x\":0.05},\"mapbox\":{\"style\":\"light\"}}},\"xaxis\":{\"anchor\":\"y\",\"domain\":[0.0,1.0],\"title\":{\"text\":\"Number of Records\"}},\"yaxis\":{\"anchor\":\"x\",\"domain\":[0.0,1.0],\"title\":{\"text\":\"Score Range\"}},\"legend\":{\"tracegroupgap\":0},\"margin\":{\"t\":60},\"barmode\":\"relative\",\"title\":{\"text\":\"Score Distribution\"}},                        {\"responsive\": true}                    ).then(function(){\n",
       "                            \n",
       "var gd = document.getElementById('121b290d-c42b-4175-b0c6-418c8ba98f0f');\n",
       "var x = new MutationObserver(function (mutations, observer) {{\n",
       "        var display = window.getComputedStyle(gd).display;\n",
       "        if (!display || display === 'none') {{\n",
       "            console.log([gd, 'removed!']);\n",
       "            Plotly.purge(gd);\n",
       "            observer.disconnect();\n",
       "        }}\n",
       "}});\n",
       "\n",
       "// Listen for the removal of the full notebook cells\n",
       "var notebookContainer = gd.closest('#notebook-container');\n",
       "if (notebookContainer) {{\n",
       "    x.observe(notebookContainer, {childList: true});\n",
       "}}\n",
       "\n",
       "// Listen for the clearing of the current output cell\n",
       "var outputEl = gd.closest('.output');\n",
       "if (outputEl) {{\n",
       "    x.observe(outputEl, {childList: true});\n",
       "}}\n",
       "\n",
       "                        })                };                });            </script>        </div>"
      ]
     },
     "metadata": {},
     "output_type": "display_data"
    }
   ],
   "source": [
    "import plotly.express as px\n",
    "import pandas as pd\n",
    "\n",
    "# Your dictt dictionary\n",
    "dictt = {\n",
    "    'Score': [(i, i+1) for i in range(11)],\n",
    "    'Number': [len(df[(df['Score'] >= i) & (df['Score'] < i+1)]) for i in range(11)]\n",
    "}\n",
    "\n",
    "# Create a DataFrame from dictt\n",
    "df_dictt = pd.DataFrame(dictt)\n",
    "\n",
    "# Convert the 'Score' column to a numeric data type (e.g., float)\n",
    "df_dictt['Score'] = df_dictt['Score'].apply(lambda x: x[0])  # Extract the lower bound of the score range\n",
    "\n",
    "# Create a horizontal bar chart using Plotly Express\n",
    "fig = px.bar(df_dictt, x='Number', y='Score', text='Number',orientation='h')\n",
    "\n",
    "# Customize the chart layout\n",
    "fig.update_layout(\n",
    "    title='Score Distribution',\n",
    "    xaxis_title='Number of Records',\n",
    "    yaxis_title='Score Range',\n",
    ")\n",
    "\n",
    "# Show the plot\n",
    "fig.show()\n"
   ]
  },
  {
   "cell_type": "code",
   "execution_count": 136,
   "id": "3284f680",
   "metadata": {},
   "outputs": [
    {
     "data": {
      "text/plain": [
       "CVE ID                                       object\n",
       "Publish Date                         datetime64[ns]\n",
       "Update Date                                  object\n",
       "Number Of Related Vulnerabilities           float64\n",
       "index                                         int64\n",
       "CWE ID                                        int64\n",
       "Vulnerability Type(s)                        object\n",
       "Score                                       float64\n",
       "Access                                       object\n",
       "Complexity                                   object\n",
       "Authentication                               object\n",
       "Conf.                                        object\n",
       "Integ.                                       object\n",
       "Avail                                        object\n",
       "CVE Summary                                  object\n",
       "Vulnerability Name                           object\n",
       "Vulnerability Description                    object\n",
       "CI SCORE                                    float64\n",
       "index.1                                       int64\n",
       "Kmeans_clusters                               int64\n",
       "Label                                        object\n",
       "Year                                          int32\n",
       "dtype: object"
      ]
     },
     "execution_count": 136,
     "metadata": {},
     "output_type": "execute_result"
    }
   ],
   "source": [
    "df.dtypes"
   ]
  },
  {
   "cell_type": "code",
   "execution_count": null,
   "id": "977888c6",
   "metadata": {},
   "outputs": [],
   "source": []
  }
 ],
 "metadata": {
  "kernelspec": {
   "display_name": "Python 3 (ipykernel)",
   "language": "python",
   "name": "python3"
  },
  "language_info": {
   "codemirror_mode": {
    "name": "ipython",
    "version": 3
   },
   "file_extension": ".py",
   "mimetype": "text/x-python",
   "name": "python",
   "nbconvert_exporter": "python",
   "pygments_lexer": "ipython3",
   "version": "3.9.12"
  }
 },
 "nbformat": 4,
 "nbformat_minor": 5
}
