{
 "cells": [
  {
   "cell_type": "code",
   "execution_count": 1,
   "id": "b3c54d0f",
   "metadata": {},
   "outputs": [],
   "source": [
    "import pandas as pd\n",
    "import numpy as np\n",
    "import matplotlib.pyplot as plt"
   ]
  },
  {
   "cell_type": "markdown",
   "id": "96f5c3e1",
   "metadata": {},
   "source": [
    "# Write Data Workfolw"
   ]
  },
  {
   "cell_type": "markdown",
   "id": "998f5ae8",
   "metadata": {},
   "source": [
    "# Data"
   ]
  },
  {
   "cell_type": "code",
   "execution_count": 2,
   "id": "98f5d075",
   "metadata": {
    "scrolled": true
   },
   "outputs": [
    {
     "data": {
      "text/plain": [
       "(61698, 14)"
      ]
     },
     "execution_count": 2,
     "metadata": {},
     "output_type": "execute_result"
    }
   ],
   "source": [
    "data = pd.read_csv('full_data_labeled.csv')\n",
    "data = data.drop(columns=['CI SCORE GLOVE','CI SCORE GLOVE 2','CI SCORE GLOVE 50','CI MEAN SCORES']).replace(np.nan,'None')\n",
    "data.shape"
   ]
  },
  {
   "cell_type": "code",
   "execution_count": 18,
   "id": "2b22586e",
   "metadata": {},
   "outputs": [
    {
     "data": {
      "text/plain": [
       "Label\n",
       "yes    51386\n",
       "no     10312\n",
       "Name: count, dtype: int64"
      ]
     },
     "execution_count": 18,
     "metadata": {},
     "output_type": "execute_result"
    }
   ],
   "source": [
    "data['Label'].value_counts()"
   ]
  },
  {
   "cell_type": "markdown",
   "id": "dfa060f7",
   "metadata": {},
   "source": [
    "# Preparation Features and Label"
   ]
  },
  {
   "cell_type": "code",
   "execution_count": 4,
   "id": "9f233407",
   "metadata": {},
   "outputs": [
    {
     "data": {
      "text/html": [
       "<div>\n",
       "<style scoped>\n",
       "    .dataframe tbody tr th:only-of-type {\n",
       "        vertical-align: middle;\n",
       "    }\n",
       "\n",
       "    .dataframe tbody tr th {\n",
       "        vertical-align: top;\n",
       "    }\n",
       "\n",
       "    .dataframe thead th {\n",
       "        text-align: right;\n",
       "    }\n",
       "</style>\n",
       "<table border=\"1\" class=\"dataframe\">\n",
       "  <thead>\n",
       "    <tr style=\"text-align: right;\">\n",
       "      <th></th>\n",
       "      <th>index</th>\n",
       "      <th>Vulnerability Type(s)</th>\n",
       "      <th>Vulnerability Name</th>\n",
       "      <th>Access</th>\n",
       "      <th>Complexity</th>\n",
       "      <th>Authentication</th>\n",
       "      <th>Conf.</th>\n",
       "      <th>Integ.</th>\n",
       "      <th>Avail</th>\n",
       "      <th>Score</th>\n",
       "      <th>Number Of Related Vulnerabilities</th>\n",
       "      <th>LabelEncoded</th>\n",
       "    </tr>\n",
       "  </thead>\n",
       "  <tbody>\n",
       "    <tr>\n",
       "      <th>0</th>\n",
       "      <td>1</td>\n",
       "      <td>XSS</td>\n",
       "      <td>Failure to Preserve Web Page Structure ('Cross...</td>\n",
       "      <td>Remote</td>\n",
       "      <td>Medium</td>\n",
       "      <td>Not required</td>\n",
       "      <td>None</td>\n",
       "      <td>Partial</td>\n",
       "      <td>None</td>\n",
       "      <td>4.3</td>\n",
       "      <td>22413.0</td>\n",
       "      <td>0</td>\n",
       "    </tr>\n",
       "    <tr>\n",
       "      <th>1</th>\n",
       "      <td>2</td>\n",
       "      <td>Unknown</td>\n",
       "      <td>Improper Authentication</td>\n",
       "      <td>Remote</td>\n",
       "      <td>Low</td>\n",
       "      <td>Not required</td>\n",
       "      <td>Partial</td>\n",
       "      <td>Partial</td>\n",
       "      <td>Partial</td>\n",
       "      <td>7.5</td>\n",
       "      <td>3011.0</td>\n",
       "      <td>1</td>\n",
       "    </tr>\n",
       "    <tr>\n",
       "      <th>2</th>\n",
       "      <td>3</td>\n",
       "      <td>Unknown</td>\n",
       "      <td>URL Redirection to Untrusted Site ('Open Redir...</td>\n",
       "      <td>Remote</td>\n",
       "      <td>Medium</td>\n",
       "      <td>Not required</td>\n",
       "      <td>Partial</td>\n",
       "      <td>Partial</td>\n",
       "      <td>None</td>\n",
       "      <td>5.8</td>\n",
       "      <td>754.0</td>\n",
       "      <td>1</td>\n",
       "    </tr>\n",
       "  </tbody>\n",
       "</table>\n",
       "</div>"
      ],
      "text/plain": [
       "   index Vulnerability Type(s)  \\\n",
       "0      1                   XSS   \n",
       "1      2               Unknown   \n",
       "2      3               Unknown   \n",
       "\n",
       "                                  Vulnerability Name  Access Complexity  \\\n",
       "0  Failure to Preserve Web Page Structure ('Cross...  Remote     Medium   \n",
       "1                            Improper Authentication  Remote        Low   \n",
       "2  URL Redirection to Untrusted Site ('Open Redir...  Remote     Medium   \n",
       "\n",
       "  Authentication    Conf.   Integ.    Avail  Score  \\\n",
       "0   Not required     None  Partial     None    4.3   \n",
       "1   Not required  Partial  Partial  Partial    7.5   \n",
       "2   Not required  Partial  Partial     None    5.8   \n",
       "\n",
       "   Number Of Related Vulnerabilities  LabelEncoded  \n",
       "0                            22413.0             0  \n",
       "1                             3011.0             1  \n",
       "2                              754.0             1  "
      ]
     },
     "execution_count": 4,
     "metadata": {},
     "output_type": "execute_result"
    }
   ],
   "source": [
    "df = data.copy()\n",
    "df['LabelEncoded'] = df['Label'].replace(['no','yes'],[0,1])\n",
    "df = df.drop(columns=['Kmeans_clusters','CI SCORE','Label'])\n",
    "df.head(3)"
   ]
  },
  {
   "cell_type": "code",
   "execution_count": 5,
   "id": "457937bb",
   "metadata": {},
   "outputs": [
    {
     "data": {
      "text/plain": [
       "Index(['index', 'Vulnerability Type(s)', 'Vulnerability Name', 'Access',\n",
       "       'Complexity', 'Authentication', 'Conf.', 'Integ.', 'Avail', 'Score',\n",
       "       'Number Of Related Vulnerabilities', 'LabelEncoded'],\n",
       "      dtype='object')"
      ]
     },
     "execution_count": 5,
     "metadata": {},
     "output_type": "execute_result"
    }
   ],
   "source": [
    "df.columns"
   ]
  },
  {
   "cell_type": "code",
   "execution_count": 6,
   "id": "ee20ae96",
   "metadata": {},
   "outputs": [
    {
     "name": "stdout",
     "output_type": "stream",
     "text": [
      "61698 \t index\n",
      "136 \t Vulnerability Type(s)\n",
      "261 \t Vulnerability Name\n",
      "4 \t Access\n",
      "4 \t Complexity\n",
      "3 \t Authentication\n",
      "4 \t Conf.\n",
      "4 \t Integ.\n",
      "4 \t Avail\n",
      "62 \t Score\n",
      "122 \t Number Of Related Vulnerabilities\n",
      "2 \t LabelEncoded\n"
     ]
    }
   ],
   "source": [
    "for col in df.columns:\n",
    "    print(df[col].nunique(),'\\t',col)"
   ]
  },
  {
   "cell_type": "markdown",
   "id": "3295c939",
   "metadata": {},
   "source": [
    "# OHE"
   ]
  },
  {
   "cell_type": "code",
   "execution_count": 7,
   "id": "2c70974f",
   "metadata": {},
   "outputs": [],
   "source": [
    "numerical_cols = ['Score','Number Of Related Vulnerabilities']\n",
    "\n",
    "categorical_cols = ['Vulnerability Type(s)', 'Vulnerability Name', 'Access',\n",
    "                    'Complexity', 'Authentication', 'Conf.', 'Integ.', 'Avail']\n",
    "label = ['LabelEncoded']\n",
    "\n",
    "\n",
    "ohe = pd.concat([\n",
    "    pd.get_dummies(df[categorical_cols],dtype=float),\n",
    "    df[numerical_cols]\n",
    "],axis=1)\n",
    "\n"
   ]
  },
  {
   "cell_type": "markdown",
   "id": "b7d89853",
   "metadata": {},
   "source": [
    "# OHE StandardScaler"
   ]
  },
  {
   "cell_type": "code",
   "execution_count": 8,
   "id": "fac9cc16",
   "metadata": {
    "scrolled": true
   },
   "outputs": [],
   "source": [
    "from sklearn.preprocessing import StandardScaler\n",
    "\n",
    "std_scaler = StandardScaler()\n",
    "std_scaler = std_scaler.fit_transform(df[numerical_cols])\n",
    "\n",
    "ohe_std_scaled = pd.concat([\n",
    "    pd.get_dummies(df[categorical_cols],dtype=float),\n",
    "    pd.DataFrame(std_scaler,columns=numerical_cols)\n",
    "],axis=1)\n",
    "\n"
   ]
  },
  {
   "cell_type": "markdown",
   "id": "a443028a",
   "metadata": {},
   "source": [
    "# OHE MinMaxScaler"
   ]
  },
  {
   "cell_type": "code",
   "execution_count": 9,
   "id": "63721e87",
   "metadata": {
    "scrolled": true
   },
   "outputs": [],
   "source": [
    "from sklearn.preprocessing import MinMaxScaler \n",
    "\n",
    "mn_scaler = MinMaxScaler()\n",
    "mn_scaler = mn_scaler.fit_transform(df[numerical_cols])\n",
    "\n",
    "ohe_mn_scaled = pd.concat([\n",
    "    pd.get_dummies(df[categorical_cols],dtype=float),\n",
    "    pd.DataFrame(mn_scaler,columns=numerical_cols)\n",
    "],axis=1)\n",
    "\n"
   ]
  },
  {
   "cell_type": "markdown",
   "id": "e0c6526a",
   "metadata": {},
   "source": [
    "## Train Test Split"
   ]
  },
  {
   "cell_type": "code",
   "execution_count": 19,
   "id": "6dfdc9e1",
   "metadata": {},
   "outputs": [
    {
     "data": {
      "text/plain": [
       "((49358, 422), (12340, 422), (49358, 1), (12340, 1))"
      ]
     },
     "execution_count": 19,
     "metadata": {},
     "output_type": "execute_result"
    }
   ],
   "source": [
    "from sklearn.model_selection import train_test_split\n",
    "\n",
    "x = ohe\n",
    "y = df[label]\n",
    "\n",
    "X_train, X_test, y_train, y_test = train_test_split(x,y,test_size=0.2,random_state=5)\n",
    "X_train.shape, X_test.shape, y_train.shape, y_test.shape"
   ]
  },
  {
   "cell_type": "code",
   "execution_count": 20,
   "id": "acbc06a3",
   "metadata": {
    "scrolled": true
   },
   "outputs": [
    {
     "data": {
      "text/plain": [
       "LabelEncoded\n",
       "1               51386\n",
       "0               10312\n",
       "Name: count, dtype: int64"
      ]
     },
     "execution_count": 20,
     "metadata": {},
     "output_type": "execute_result"
    }
   ],
   "source": [
    "df[label].value_counts()"
   ]
  },
  {
   "cell_type": "code",
   "execution_count": 21,
   "id": "0b5cc52a",
   "metadata": {},
   "outputs": [
    {
     "data": {
      "image/png": "[encoded data removed]",
      "text/plain": [
       "<Figure size 500x500 with 1 Axes>"
      ]
     },
     "metadata": {},
     "output_type": "display_data"
    },
    {
     "name": "stdout",
     "output_type": "stream",
     "text": [
      "Label\n",
      "yes    51386\n",
      "no     10312\n",
      "Name: count, dtype: int64\n"
     ]
    }
   ],
   "source": [
    "def show_loan_distrib(data,y):\n",
    "    count = \"\"\n",
    "    if isinstance(data, pd.DataFrame):\n",
    "        count = data[y].value_counts()\n",
    "    else:\n",
    "        count = data.value_counts()\n",
    "\n",
    "    count.plot(kind = 'pie', explode = [0, 0.1], \n",
    "               figsize = (5, 5), autopct = '%1.1f%%', shadow = True)\n",
    "#     plt.ylabel(\"Loan: Fully Paid Vs. Not Fully Paid\")\n",
    "    plt.legend([\"YES\", \"No\"])\n",
    "    plt.show()\n",
    "    print(data[y].value_counts())\n",
    "    \n",
    "\n",
    "\n",
    "# Visualize the proportion of borrowers\n",
    "show_loan_distrib(data,'Label')"
   ]
  },
  {
   "cell_type": "markdown",
   "id": "64bf43d0",
   "metadata": {},
   "source": [
    "# Model "
   ]
  },
  {
   "cell_type": "markdown",
   "id": "2fc25e74",
   "metadata": {},
   "source": [
    "### without scaling"
   ]
  },
  {
   "cell_type": "code",
   "execution_count": 12,
   "id": "6052bfda",
   "metadata": {
    "scrolled": true
   },
   "outputs": [
    {
     "name": "stderr",
     "output_type": "stream",
     "text": [
      "C:\\Users\\pc\\anaconda3\\lib\\site-packages\\sklearn\\utils\\validation.py:1143: DataConversionWarning: A column-vector y was passed when a 1d array was expected. Please change the shape of y to (n_samples, ), for example using ravel().\n",
      "  y = column_or_1d(y, warn=True)\n"
     ]
    },
    {
     "name": "stdout",
     "output_type": "stream",
     "text": [
      "              precision    recall  f1-score   support\n",
      "\n",
      "           0       1.00      1.00      1.00      2041\n",
      "           1       1.00      1.00      1.00     10299\n",
      "\n",
      "    accuracy                           1.00     12340\n",
      "   macro avg       1.00      1.00      1.00     12340\n",
      "weighted avg       1.00      1.00      1.00     12340\n",
      "\n",
      "[[ 2041     0]\n",
      " [    0 10299]]\n",
      "1.0\n"
     ]
    },
    {
     "name": "stderr",
     "output_type": "stream",
     "text": [
      "C:\\Users\\pc\\anaconda3\\lib\\site-packages\\sklearn\\linear_model\\_logistic.py:458: ConvergenceWarning: lbfgs failed to converge (status=1):\n",
      "STOP: TOTAL NO. of ITERATIONS REACHED LIMIT.\n",
      "\n",
      "Increase the number of iterations (max_iter) or scale the data as shown in:\n",
      "    https://scikit-learn.org/stable/modules/preprocessing.html\n",
      "Please also refer to the documentation for alternative solver options:\n",
      "    https://scikit-learn.org/stable/modules/linear_model.html#logistic-regression\n",
      "  n_iter_i = _check_optimize_result(\n"
     ]
    }
   ],
   "source": [
    "from sklearn.model_selection import train_test_split\n",
    "from sklearn.linear_model import LogisticRegression\n",
    "from sklearn.metrics import confusion_matrix,classification_report,accuracy_score\n",
    "\n",
    "x = ohe\n",
    "y = df[label]\n",
    "\n",
    "X_train, X_test, y_train, y_test = train_test_split(x,y,test_size=0.2,random_state=5)\n",
    "\n",
    "\n",
    "logireg = LogisticRegression()\n",
    "logireg.fit(X_train,y_train)\n",
    "\n",
    "y_pred = logireg.predict(X_test)\n",
    "\n",
    "print(classification_report(y_test,y_pred))\n",
    "print(confusion_matrix(y_test,y_pred))\n",
    "print(accuracy_score(y_test,y_pred))"
   ]
  },
  {
   "cell_type": "markdown",
   "id": "5d2cdcf5",
   "metadata": {},
   "source": [
    "### with scaling"
   ]
  },
  {
   "cell_type": "code",
   "execution_count": 13,
   "id": "50a4f7bc",
   "metadata": {
    "scrolled": true
   },
   "outputs": [
    {
     "name": "stderr",
     "output_type": "stream",
     "text": [
      "C:\\Users\\pc\\anaconda3\\lib\\site-packages\\sklearn\\utils\\validation.py:1143: DataConversionWarning: A column-vector y was passed when a 1d array was expected. Please change the shape of y to (n_samples, ), for example using ravel().\n",
      "  y = column_or_1d(y, warn=True)\n"
     ]
    },
    {
     "name": "stdout",
     "output_type": "stream",
     "text": [
      "              precision    recall  f1-score   support\n",
      "\n",
      "           0       1.00      1.00      1.00      2041\n",
      "           1       1.00      1.00      1.00     10299\n",
      "\n",
      "    accuracy                           1.00     12340\n",
      "   macro avg       1.00      1.00      1.00     12340\n",
      "weighted avg       1.00      1.00      1.00     12340\n",
      "\n",
      "[[ 2041     0]\n",
      " [    0 10299]]\n",
      "1.0\n"
     ]
    }
   ],
   "source": [
    "from sklearn.model_selection import train_test_split\n",
    "from sklearn.linear_model import LogisticRegression\n",
    "from sklearn.metrics import confusion_matrix,classification_report,accuracy_score\n",
    "\n",
    "x = ohe_std_scaled\n",
    "y = df[label]\n",
    "\n",
    "X_train, X_test, y_train, y_test = train_test_split(x,y,test_size=0.2,random_state=5)\n",
    "\n",
    "\n",
    "logireg = LogisticRegression()\n",
    "logireg.fit(X_train,y_train)\n",
    "\n",
    "y_pred = logireg.predict(X_test)\n",
    "\n",
    "print(classification_report(y_test,y_pred))\n",
    "print(confusion_matrix(y_test,y_pred))\n",
    "print(accuracy_score(y_test,y_pred))"
   ]
  },
  {
   "cell_type": "code",
   "execution_count": null,
   "id": "643628f2",
   "metadata": {},
   "outputs": [],
   "source": []
  },
  {
   "cell_type": "markdown",
   "id": "9a1a8fb4",
   "metadata": {},
   "source": [
    "# Imbalanced Handling"
   ]
  },
  {
   "cell_type": "code",
   "execution_count": 13,
   "id": "743e2347",
   "metadata": {},
   "outputs": [
    {
     "data": {
      "image/png": "[encoded data removed]",
      "text/plain": [
       "<Figure size 500x500 with 1 Axes>"
      ]
     },
     "metadata": {},
     "output_type": "display_data"
    },
    {
     "name": "stdout",
     "output_type": "stream",
     "text": [
      "LabelEncoded\n",
      "1    51386\n",
      "0    10312\n",
      "Name: count, dtype: int64\n"
     ]
    }
   ],
   "source": [
    "show_loan_distrib(df,'LabelEncoded')"
   ]
  },
  {
   "cell_type": "markdown",
   "id": "8d7a46ec",
   "metadata": {},
   "source": [
    "## UnderSampling 1 - Random"
   ]
  },
  {
   "cell_type": "code",
   "execution_count": 14,
   "id": "e350cd80",
   "metadata": {},
   "outputs": [
    {
     "data": {
      "text/plain": [
       "LabelEncoded\n",
       "0               10312\n",
       "1               10312\n",
       "Name: count, dtype: int64"
      ]
     },
     "execution_count": 14,
     "metadata": {},
     "output_type": "execute_result"
    }
   ],
   "source": [
    "from imblearn.under_sampling import RandomUnderSampler\n",
    "\n",
    "x = ohe\n",
    "y = df[label]\n",
    "\n",
    "rus = RandomUnderSampler()\n",
    "\n",
    "x_rus , y_rus = rus.fit_resample(x,y)\n",
    "y_rus.value_counts() "
   ]
  },
  {
   "cell_type": "code",
   "execution_count": null,
   "id": "fe06610c",
   "metadata": {},
   "outputs": [],
   "source": []
  },
  {
   "cell_type": "markdown",
   "id": "709b4de9",
   "metadata": {},
   "source": [
    "## OverSampling 1 - Random"
   ]
  },
  {
   "cell_type": "code",
   "execution_count": 15,
   "id": "b36a907a",
   "metadata": {
    "scrolled": true
   },
   "outputs": [
    {
     "data": {
      "text/plain": [
       "LabelEncoded\n",
       "0               51386\n",
       "1               51386\n",
       "Name: count, dtype: int64"
      ]
     },
     "execution_count": 15,
     "metadata": {},
     "output_type": "execute_result"
    }
   ],
   "source": [
    "from imblearn.over_sampling import RandomOverSampler\n",
    "\n",
    "x = ohe\n",
    "y = df[label]\n",
    "\n",
    "ros = RandomOverSampler()\n",
    "\n",
    "x_ros , y_ros = ros.fit_resample(x,y)\n",
    "y_ros.value_counts() "
   ]
  },
  {
   "cell_type": "code",
   "execution_count": 16,
   "id": "5201d518",
   "metadata": {},
   "outputs": [],
   "source": [
    "# pd.concat([x_ros,y_ros],axis=1)\n",
    "# show_loan_distrib(pd.concat([x_ros,y_ros],axis=1),'LabelEncoded')"
   ]
  },
  {
   "cell_type": "markdown",
   "id": "5d772195",
   "metadata": {},
   "source": [
    "## OverSampling 2 - SMOTE"
   ]
  },
  {
   "cell_type": "code",
   "execution_count": 17,
   "id": "332324dc",
   "metadata": {},
   "outputs": [
    {
     "data": {
      "text/plain": [
       "LabelEncoded\n",
       "0               51386\n",
       "1               51386\n",
       "Name: count, dtype: int64"
      ]
     },
     "execution_count": 17,
     "metadata": {},
     "output_type": "execute_result"
    }
   ],
   "source": [
    "from imblearn.over_sampling import SMOTE\n",
    "\n",
    "x = ohe\n",
    "y = df[label]\n",
    "\n",
    "smote = SMOTE()\n",
    "\n",
    "x_smote , y_smote = smote.fit_resample(x,y)\n",
    "y_smote.value_counts() \n"
   ]
  },
  {
   "cell_type": "code",
   "execution_count": 23,
   "id": "67342903",
   "metadata": {},
   "outputs": [
    {
     "data": {
      "image/png": "[encoded data removed]",
      "text/plain": [
       "<Figure size 500x500 with 1 Axes>"
      ]
     },
     "metadata": {},
     "output_type": "display_data"
    },
    {
     "name": "stdout",
     "output_type": "stream",
     "text": [
      "LabelEncoded\n",
      "0    51386\n",
      "1    51386\n",
      "Name: count, dtype: int64\n"
     ]
    }
   ],
   "source": [
    "show_loan_distrib(pd.concat([x_smote,y_smote],axis=1),'LabelEncoded')"
   ]
  },
  {
   "cell_type": "code",
   "execution_count": 27,
   "id": "ffa82010",
   "metadata": {},
   "outputs": [
    {
     "data": {
      "text/plain": [
       "95412"
      ]
     },
     "execution_count": 27,
     "metadata": {},
     "output_type": "execute_result"
    }
   ],
   "source": [
    "x_smote.duplicated().sum()"
   ]
  },
  {
   "cell_type": "markdown",
   "id": "8c13d746",
   "metadata": {},
   "source": [
    "## Mix of undersampling and oversampling"
   ]
  },
  {
   "cell_type": "code",
   "execution_count": 34,
   "id": "be6d3566",
   "metadata": {},
   "outputs": [],
   "source": [
    "from imblearn.combine import SMOTEENN\n"
   ]
  },
  {
   "cell_type": "code",
   "execution_count": null,
   "id": "2c14d804",
   "metadata": {},
   "outputs": [],
   "source": []
  }
 ],
 "metadata": {
  "kernelspec": {
   "display_name": "Python 3 (ipykernel)",
   "language": "python",
   "name": "python3"
  },
  "language_info": {
   "codemirror_mode": {
    "name": "ipython",
    "version": 3
   },
   "file_extension": ".py",
   "mimetype": "text/x-python",
   "name": "python",
   "nbconvert_exporter": "python",
   "pygments_lexer": "ipython3",
   "version": "3.9.12"
  }
 },
 "nbformat": 4,
 "nbformat_minor": 5
}
